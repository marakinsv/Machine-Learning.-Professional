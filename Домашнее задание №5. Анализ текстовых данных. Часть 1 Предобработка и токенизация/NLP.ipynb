{
  "cells": [
    {
      "cell_type": "code",
      "execution_count": 11,
      "metadata": {
        "id": "AMUW5Kft0Swi"
      },
      "outputs": [],
      "source": [
        "import requests      # Библиотека для отправки запросов\n",
        "import numpy as np   # Библиотека для матриц, векторов и линала\n",
        "import pandas as pd  # Библиотека для табличек \n",
        "import time          # Библиотека для времени\n",
        "import json\n",
        "from tqdm import tqdm_notebook\n",
        "\n",
        "import threading\n",
        "from threading import Thread"
      ]
    },
    {
      "cell_type": "code",
      "execution_count": 12,
      "metadata": {
        "id": "4v7mZn5m2nrO",
        "colab": {
          "base_uri": "https://localhost:8080/"
        },
        "outputId": "a173676c-cd56-4b42-c109-aed23c97a2c1"
      },
      "outputs": [
        {
          "output_type": "stream",
          "name": "stdout",
          "text": [
            "Requirement already satisfied: fake_useragent in /usr/local/lib/python3.7/dist-packages (0.1.11)\n"
          ]
        }
      ],
      "source": [
        "!pip install fake_useragent"
      ]
    },
    {
      "cell_type": "code",
      "execution_count": 13,
      "metadata": {
        "id": "Oyk7OTS12vNu"
      },
      "outputs": [],
      "source": [
        "from fake_useragent import UserAgent"
      ]
    },
    {
      "cell_type": "code",
      "execution_count": 14,
      "metadata": {
        "id": "t_73Z-Q33exI"
      },
      "outputs": [],
      "source": [
        "from bs4 import BeautifulSoup"
      ]
    },
    {
      "cell_type": "code",
      "execution_count": 15,
      "metadata": {
        "id": "BqIovI7cETdV"
      },
      "outputs": [],
      "source": [
        "def getPageLinks(keyword, page_number):  \n",
        "    # Запрашиваем данные\n",
        "    response = requests.get('https://www.labirint.ru/search/' + keyword + '/',\n",
        "                            params={'page': page_number},\n",
        "                            headers={'User-Agent': UserAgent().chrome})\n",
        "    \n",
        "    if not response.ok: return [] \n",
        "    \n",
        "    # Получаем содержимое страницы и переводим в суп\n",
        "    soup = BeautifulSoup(response.content,'html.parser')\n",
        "    \n",
        "    # Находим ссылки\n",
        "    list_div = soup.findAll('div', attrs={'class': 'product need-watch '})\n",
        "\n",
        "    links = ['https://www.labirint.ru' + div.find('a', attrs={'class': 'cover'}).attrs['href'] for div in list_div]\n",
        "    \n",
        "    return links"
      ]
    },
    {
      "cell_type": "code",
      "execution_count": 16,
      "metadata": {
        "id": "n4gcTbg222OB"
      },
      "outputs": [],
      "source": [
        "def getDescription(link):  \n",
        "    # Запрашиваем данные\n",
        "    response = requests.get(link, headers={'User-Agent': UserAgent().chrome})\n",
        "    \n",
        "    if not response.ok: return [] \n",
        "    \n",
        "    # Получаем содержимое страницы и переводим в суп\n",
        "    soup = BeautifulSoup(response.content,'html.parser')\n",
        "    \n",
        "    # Оценка товара\n",
        "    rating = soup.find('div', attrs={'id': 'rate'}).string\n",
        "\n",
        "    # Оценка товара\n",
        "    annotation = soup.find('div', attrs={'id': 'fullannotation'})\n",
        "\n",
        "    if annotation == None: return {'rating': float(rating), 'text': ''}\n",
        "\n",
        "    return {'rating': float(rating), 'text': ' '.join([s for s in annotation.p.stripped_strings])}"
      ]
    },
    {
      "cell_type": "code",
      "execution_count": 17,
      "metadata": {
        "id": "gSeJ7eZUEXHl"
      },
      "outputs": [],
      "source": [
        "# Находим ссылки всех страниц\n",
        "links = []\n",
        "for kword in ['прир', 'биз', 'пти', 'иде', 'трен']:\n",
        "  for page_num in range(1, 18, 1):\n",
        "    links_ = getPageLinks(kword, page_num)\n",
        "    if len(links_) == 0: break\n",
        "    time.sleep(0.1)\n",
        "    links += links_\n",
        "\n",
        "links = list(set(links))   # Удаляем повторяющиеся, если есть"
      ]
    },
    {
      "cell_type": "code",
      "execution_count": 18,
      "metadata": {
        "colab": {
          "base_uri": "https://localhost:8080/"
        },
        "id": "ujwvsZi4EZSO",
        "outputId": "052d8955-8629-4429-e803-2a07fd1e6a00"
      },
      "outputs": [
        {
          "output_type": "execute_result",
          "data": {
            "text/plain": [
              "['https://www.labirint.ru/books/683185/',\n",
              " 'https://www.labirint.ru/books/533963/',\n",
              " 'https://www.labirint.ru/books/687200/',\n",
              " 'https://www.labirint.ru/books/475914/',\n",
              " 'https://www.labirint.ru/books/840972/',\n",
              " 'https://www.labirint.ru/books/759149/',\n",
              " 'https://www.labirint.ru/books/607121/',\n",
              " 'https://www.labirint.ru/books/825237/',\n",
              " 'https://www.labirint.ru/books/297880/',\n",
              " 'https://www.labirint.ru/books/805160/']"
            ]
          },
          "metadata": {},
          "execution_count": 18
        }
      ],
      "source": [
        "links[: 10]"
      ]
    },
    {
      "cell_type": "code",
      "execution_count": 19,
      "metadata": {
        "id": "KK2AZ6l22E3u"
      },
      "outputs": [],
      "source": [
        "def build_data(links, datalist, idx_start, idx_end):\n",
        "  for link in links[idx_start : idx_end]:\n",
        "    data = getDescription(link)\n",
        "    datalist.append(data)\n",
        "    time.sleep(0.1)"
      ]
    },
    {
      "cell_type": "code",
      "execution_count": 20,
      "metadata": {
        "colab": {
          "base_uri": "https://localhost:8080/"
        },
        "id": "uPZGHv_TWXO0",
        "outputId": "6af54223-6bb3-4da4-cfc8-161e75b1fcdc"
      },
      "outputs": [
        {
          "output_type": "stream",
          "name": "stdout",
          "text": [
            "Всего ссылок:  4877\n",
            "Прочитано ссылок:  122\n",
            "Прочитано ссылок:  291\n",
            "Прочитано ссылок:  459\n",
            "Прочитано ссылок:  630\n",
            "Прочитано ссылок:  797\n",
            "Прочитано ссылок:  963\n",
            "Прочитано ссылок:  1133\n",
            "Прочитано ссылок:  1296\n",
            "Прочитано ссылок:  1470\n",
            "Прочитано ссылок:  1638\n",
            "Прочитано ссылок:  1796\n",
            "Прочитано ссылок:  1952\n",
            "Прочитано ссылок:  2096\n",
            "Прочитано ссылок:  2236\n",
            "Прочитано ссылок:  2389\n",
            "Прочитано ссылок:  2540\n",
            "Прочитано ссылок:  2693\n",
            "Прочитано ссылок:  2864\n",
            "Прочитано ссылок:  3027\n",
            "Прочитано ссылок:  3191\n",
            "Прочитано ссылок:  3360\n",
            "Прочитано ссылок:  3532\n",
            "Прочитано ссылок:  3701\n",
            "Прочитано ссылок:  3868\n",
            "Прочитано ссылок:  4031\n",
            "Прочитано ссылок:  4189\n",
            "Прочитано ссылок:  4367\n",
            "Прочитано ссылок:  4534\n",
            "Прочитано ссылок:  4695\n",
            "Прочитано ссылок:  4851\n",
            "Прочитано ссылок:  4877\n"
          ]
        }
      ],
      "source": [
        "datalist = []\n",
        "\n",
        "count = len(links) // 10             # Разбиваем чтение данных на 10 + 1 потоков\n",
        "\n",
        "cur_count = 0\n",
        "for idx in range(count, len(links), count):\n",
        "    cur_count = idx\n",
        "    th = Thread(target=build_data, args=(links, datalist, idx - count, idx))\n",
        "    th.start()\n",
        "\n",
        "if cur_count != len(links):\n",
        "    th = Thread(target=build_data, args=(links, datalist, cur_count, len(links)))\n",
        "    th.start()\n",
        "\n",
        "print('Всего ссылок: ', len(links))\n",
        "\n",
        "while len(datalist) != len(links):\n",
        "  time.sleep(60)\n",
        "  print('Прочитано ссылок: ', len(datalist))"
      ]
    },
    {
      "cell_type": "code",
      "execution_count": 21,
      "metadata": {
        "id": "UwxCB9pfjDeZ",
        "colab": {
          "base_uri": "https://localhost:8080/"
        },
        "outputId": "570f968e-8021-4153-c96b-ab03fb23e396"
      },
      "outputs": [
        {
          "output_type": "stream",
          "name": "stdout",
          "text": [
            "Кол-во ссылок:  4877\n",
            "Кол-во ссылок с данными:  727\n"
          ]
        }
      ],
      "source": [
        "# Удаляем данные без описания или без оценки\n",
        "print('Кол-во ссылок: ', len(datalist))\n",
        "\n",
        "datalist = [data for data in datalist if data['text'] != '' and data['rating'] != 0.0]\n",
        "\n",
        "print('Кол-во ссылок с данными: ', len(datalist))"
      ]
    },
    {
      "cell_type": "code",
      "execution_count": 22,
      "metadata": {
        "id": "iG8xdgDLEHOB",
        "colab": {
          "base_uri": "https://localhost:8080/"
        },
        "outputId": "b52ea24e-558a-4c1b-d18e-85e25e6f4099"
      },
      "outputs": [
        {
          "output_type": "execute_result",
          "data": {
            "text/plain": [
              "[{'rating': 10.0,\n",
              "  'text': '\"Представьте двух бизнесменов в кимоно. Пусть это будет поединок. Один, известный на рынке игрок, наступает. Другой, неокрепший новичок, всю жизнь работал в другой сфере, только пришел на этот рынок и теперь должен держать удар. Скажете, у второго нет шансов? А вот и нет. Если знать правильные приемы, встречную энергию противника можно направить на благо себе. Вместо \"акулы бизнеса\" условным противником \"новичка\" может быть что угодно. Внешние обстоятельства, подрядчики, контрагенты, клиенты, даже собственная жена или совершенно незнакомые люди на улице. Правильными приемами я, Андрей Лушников, и хочу с вами поделиться. Очень часто всё, что у вас получается в жизни легко и как будто \"в потоке\", - и есть айкибизнес\". Правила ведения бизнеса в стиле айкидо пригодятся всем: бизнесменам, начинающим предпринимателям, людям, только мечтающим о бизнесе, наемным специалистам, мужьям, женам, наконец водителям автомобилей - они работают везде, вне зависимости от пола, возраста, опыта, профессии, социального и финансового положения вашего собеседника. Андрей Лушников. Предприниматель с более чем 30-летним стажем. В 1997-м основал ЗАО \"БестЪ\" - компанию по управлению недвижимым имуществом. Стоимость активов оценивается в 4,5 миллиарда рублей. Общая капитализация компаний составляет около 10 миллиардов рублей. Анастасия Жигач. Журналист газеты \"Деловой Петербург\", уже семь лет пишет о предпринимателях в Петербурге и за его пределами.'},\n",
              " {'rating': 6.75,\n",
              "  'text': 'Представленные на страницах этой книги оригинальные идеи касаются декорирования предметов домашнего обихода, выполненных из разных материалов, - дерева, стекла, бумаги и даже ткани. При всей своей простоте техника салфеточных аппликаций позволяет создать неповторимое, пленительное художественное впечатление. Это просто поразительно: немного терпения - и под вашими пальцами рождается иллюзия настоящей живописи. Работая в технике салфеточных аппликаций, даже самый неопытный любитель за какие-то мгновения способен совершить чудо. Это чудо - преображение привычных бытовых предметов в нечто волшебно красивое. При работе используется только верхний (гофрированный) слой декоративных салфеток. Из салфетки вырезается понравившийся изобразительный мотив и накладывается \"сажается\" с помощью специального лака на декорируемый предмет. Затем поверхность предмета покрывается консервирующим слоем лака. Такова несложная технология, позволяющая нередко быстро воплощать в жизнь ваши дизайнерские фантазии.'}]"
            ]
          },
          "metadata": {},
          "execution_count": 22
        }
      ],
      "source": [
        "datalist[:2]"
      ]
    },
    {
      "cell_type": "code",
      "execution_count": 23,
      "metadata": {
        "id": "OF7i2JRtOTWU"
      },
      "outputs": [],
      "source": [
        "import string # библиотека для работы со строками\n",
        "import nltk   # Natural Language Toolkit"
      ]
    },
    {
      "cell_type": "code",
      "execution_count": 24,
      "metadata": {
        "id": "HRuXC-8GOUIL",
        "colab": {
          "base_uri": "https://localhost:8080/"
        },
        "outputId": "c0b51615-fc60-4438-d41b-e233a1c198f6"
      },
      "outputs": [
        {
          "output_type": "stream",
          "name": "stdout",
          "text": [
            "[nltk_data] Downloading package stopwords to /root/nltk_data...\n",
            "[nltk_data]   Package stopwords is already up-to-date!\n"
          ]
        }
      ],
      "source": [
        "# загружаем список стоп-слов для русского\n",
        "nltk.download('stopwords')\n",
        "stop_words = nltk.corpus.stopwords.words('russian')"
      ]
    },
    {
      "cell_type": "code",
      "execution_count": 25,
      "metadata": {
        "id": "DvcGwF_AOYCO"
      },
      "outputs": [],
      "source": [
        "word_tokenizer = nltk.WordPunctTokenizer()"
      ]
    },
    {
      "cell_type": "code",
      "execution_count": 26,
      "metadata": {
        "id": "BcGN7FSkPA4q"
      },
      "outputs": [],
      "source": [
        "dates = [str(x) for x in np.arange(1800, 2022)]\n",
        "def process_data(data):\n",
        "    texts = []\n",
        "    targets = []\n",
        "    \n",
        "    # поочередно проходим по всем новостям в списке\n",
        "    for item in data:               \n",
        "        text_lower = item['text'].lower() # приводим все слова к нижнему регистру\n",
        "        tokens     = word_tokenizer.tokenize(text_lower) # разбиваем текст на слова\n",
        "        \n",
        "        # удаляем пунктуацию и стоп-слова\n",
        "        tokens = [word for word in tokens if (word not in string.punctuation and word not in stop_words and word not in dates and not ('(' in word) and not (')' in word))]\n",
        "        \n",
        "        texts.append(tokens) # добавляем в предобработанный список\n",
        "    \n",
        "    return texts"
      ]
    },
    {
      "cell_type": "markdown",
      "metadata": {
        "id": "TOnodT26F7GH"
      },
      "source": [
        "**Удаляем пунктуацию и стоп-слова.**"
      ]
    },
    {
      "cell_type": "code",
      "execution_count": 81,
      "metadata": {
        "id": "ckil1x_uPI4_"
      },
      "outputs": [],
      "source": [
        "# запускаем предобработку\n",
        "y = [item['rating'] for item in datalist]\n",
        "texts = process_data(datalist)"
      ]
    },
    {
      "cell_type": "code",
      "execution_count": 82,
      "metadata": {
        "id": "gVP7MhN9PUhz",
        "colab": {
          "base_uri": "https://localhost:8080/"
        },
        "outputId": "61147d13-dd8b-472d-ea7b-bed01680bb9f"
      },
      "outputs": [
        {
          "output_type": "stream",
          "name": "stdout",
          "text": [
            "Label:  10.0\n",
            "Tokens:  ['представьте', 'двух', 'бизнесменов', 'кимоно', 'пусть', 'это', 'поединок', 'известный', 'рынке', 'игрок', 'наступает', 'неокрепший', 'новичок', 'жизнь', 'работал', 'сфере', 'пришел', 'рынок', 'должен', 'держать', 'удар', 'скажете', 'второго', 'шансов', 'знать', 'правильные', 'приемы', 'встречную', 'энергию', 'противника', 'направить', 'благо', 'вместо', 'акулы', 'бизнеса', 'условным', 'противником', 'новичка', 'угодно', 'внешние', 'обстоятельства', 'подрядчики', 'контрагенты', 'клиенты', 'собственная', 'жена', 'совершенно', 'незнакомые', 'люди', 'улице', 'правильными', 'приемами', 'андрей', 'лушников', 'хочу', 'вами', 'поделиться', 'очень', 'часто', 'всё', 'получается', 'жизни', 'легко', 'потоке', '\",', 'айкибизнес', '\".', 'правила', 'ведения', 'бизнеса', 'стиле', 'айкидо', 'пригодятся', 'всем', 'бизнесменам', 'начинающим', 'предпринимателям', 'людям', 'мечтающим', 'бизнесе', 'наемным', 'специалистам', 'мужьям', 'женам', 'водителям', 'автомобилей', 'работают', 'везде', 'вне', 'зависимости', 'пола', 'возраста', 'опыта', 'профессии', 'социального', 'финансового', 'положения', 'вашего', 'собеседника', 'андрей', 'лушников', 'предприниматель', '30', 'летним', 'стажем', 'м', 'основал', 'зао', 'бестъ', 'компанию', 'управлению', 'недвижимым', 'имуществом', 'стоимость', 'активов', 'оценивается', '4', '5', 'миллиарда', 'рублей', 'общая', 'капитализация', 'компаний', 'составляет', 'около', '10', 'миллиардов', 'рублей', 'анастасия', 'жигач', 'журналист', 'газеты', 'деловой', 'петербург', '\",', 'семь', 'лет', 'пишет', 'предпринимателях', 'петербурге', 'пределами']\n"
          ]
        }
      ],
      "source": [
        "# example\n",
        "i = 0\n",
        "print(\"Label: \", y[i])\n",
        "print(\"Tokens: \", texts[i])"
      ]
    },
    {
      "cell_type": "markdown",
      "metadata": {
        "id": "BjtqLHWlGekf"
      },
      "source": [
        "**Нормализуем слова.**"
      ]
    },
    {
      "cell_type": "code",
      "execution_count": 83,
      "metadata": {
        "id": "FXuhQwBDGoaV"
      },
      "outputs": [],
      "source": [
        "#!pip install pymorphy2"
      ]
    },
    {
      "cell_type": "code",
      "execution_count": 84,
      "metadata": {
        "id": "jE0a_QZrGihp"
      },
      "outputs": [],
      "source": [
        "# загружаем библиотеку для лемматизации\n",
        "import pymorphy2 # Морфологический анализатор\n",
        "\n",
        "# инициализируем лемматизатор :)\n",
        "morph = pymorphy2.MorphAnalyzer()"
      ]
    },
    {
      "cell_type": "code",
      "execution_count": 85,
      "metadata": {
        "id": "wWlmjVb2H2Pv",
        "colab": {
          "base_uri": "https://localhost:8080/",
          "height": 101,
          "referenced_widgets": [
            "537542cef33f472994495504f34fcddf",
            "fac98503e8804414b368cb761c29177d",
            "80d250a3317f4f7f9f0d9beefb8f66f3",
            "ef5ea0f3a0d0466bb1d3d464745cddf9",
            "4ae92f7a9f7d498aa268c88e2c969dc0",
            "d539b79657674055ad301bba24160fbf",
            "0938e9f20208465e838268f4bdbc3d22",
            "719097c8d43a4e34b141bb11ea04f4ea",
            "9271f0034f9046dfa71017908e26af7a",
            "0d4253cec25047219fc816c07e879bae",
            "2fbaa8561f9c432da706a2858c15c521"
          ]
        },
        "outputId": "008f35dc-7009-40b6-9d82-b5d76012d8b2"
      },
      "outputs": [
        {
          "output_type": "stream",
          "name": "stderr",
          "text": [
            "/usr/local/lib/python3.7/dist-packages/ipykernel_launcher.py:2: TqdmDeprecationWarning: This function will be removed in tqdm==5.0.0\n",
            "Please use `tqdm.notebook.tqdm` instead of `tqdm.tqdm_notebook`\n",
            "  \n"
          ]
        },
        {
          "output_type": "display_data",
          "data": {
            "application/vnd.jupyter.widget-view+json": {
              "model_id": "537542cef33f472994495504f34fcddf",
              "version_minor": 0,
              "version_major": 2
            },
            "text/plain": [
              "  0%|          | 0/727 [00:00<?, ?it/s]"
            ]
          },
          "metadata": {}
        }
      ],
      "source": [
        "# применяем лемматизацию ко всем текстам\n",
        "for i in tqdm_notebook(range(len(texts))):           # tqdm_notebook создает шкалу прогресса :)\n",
        "    text_lemmatized = [morph.parse(x)[0].normal_form for x in texts[i]] # применяем лемматизацию для каждого слова в тексте\n",
        "    texts[i] = ' '.join(text_lemmatized)                # объединяем все слова в одну строку через пробел"
      ]
    },
    {
      "cell_type": "code",
      "execution_count": 86,
      "metadata": {
        "id": "nk7_19UHIeUW",
        "colab": {
          "base_uri": "https://localhost:8080/"
        },
        "outputId": "fc4179dc-ba0f-4f0e-a1d1-00f9f1ff2b15"
      },
      "outputs": [
        {
          "output_type": "stream",
          "name": "stdout",
          "text": [
            "Label:  10.0\n",
            "Text: \n",
            " представить два бизнесмен кимоно пусть это поединок известный рынок игрок наступать неокрепший новичок жизнь работать сфера прийти рынок должный держать удар сказать второй шанс знать правильный приём встречный энергия противник направить благо вместо акула бизнес условный противник новичок угодный внешний обстоятельство подрядчик контрагент клиент собственный жена совершенно незнакомый человек улица правильный приём андрей лушник хотеть вы поделиться очень часто всё получаться жизнь легко поток \", айкибизнес \". правило ведение бизнес стиль айкидо пригодиться весь бизнесмен начинающий предприниматель человек мечтать бизнес наёмный специалист муж жена водитель автомобиль работать везде вне зависимость пол возраст опыт профессия социальный финансовый положение ваш собеседник андрей лушник предприниматель 30 летний стаж м основать зао бестъ компания управление недвижимый имущество стоимость актив оцениваться 4 5 миллиард рубль общий капитализация компания составлять около 10 миллиард рубль анастасия жигач журналист газета деловой петербург \", семь год писать предприниматель петербург предел\n"
          ]
        }
      ],
      "source": [
        "i = 0\n",
        "print(\"Label: \",   y[i])\n",
        "print(\"Text: \\n\",  texts[i])"
      ]
    },
    {
      "cell_type": "markdown",
      "metadata": {
        "id": "pvyemJzWIpf1"
      },
      "source": [
        "**Моделирование.**"
      ]
    },
    {
      "cell_type": "code",
      "execution_count": 102,
      "metadata": {
        "id": "ZZDF0a3MIwdT"
      },
      "outputs": [],
      "source": [
        "from sklearn.model_selection import train_test_split\n",
        "from sklearn.preprocessing import PolynomialFeatures\n",
        "from sklearn.linear_model import ElasticNet\n",
        "from sklearn.ensemble import RandomForestRegressor\n",
        "from sklearn.model_selection import GridSearchCV\n",
        "from sklearn.metrics import mean_absolute_error, mean_squared_error, max_error, r2_score\n",
        "from sklearn.model_selection import StratifiedKFold\n",
        "\n",
        "import matplotlib\n",
        "import matplotlib.pyplot as plt\n",
        "import matplotlib.cm as cm\n",
        "\n",
        "plt.rcParams[\"figure.figsize\"] = (20, 8)"
      ]
    },
    {
      "cell_type": "code",
      "execution_count": 88,
      "metadata": {
        "id": "s8WnaRhkI0Qn"
      },
      "outputs": [],
      "source": [
        "stratify = np.array(y).astype(np.int16)\n",
        "stratify[stratify < 2] = 2\n",
        "\n",
        "train_texts, test_texts, train_y, test_y = train_test_split(texts, y, test_size=0.25, random_state=42, stratify=stratify)"
      ]
    },
    {
      "cell_type": "code",
      "execution_count": 89,
      "metadata": {
        "id": "XGSKu7xrJpyI"
      },
      "outputs": [],
      "source": [
        "from sklearn.feature_extraction.text import TfidfVectorizer\n",
        "# Fit TF-IDF on train texts\n",
        "vectorizer = TfidfVectorizer(ngram_range=(1, 2), max_df=0.8, min_df=0.1, norm=\"l1\", max_features = 50)\n",
        "# Обучаем TF-IDF на train, а затем применяем к train и test\n",
        "train_X = vectorizer.fit_transform(train_texts)\n",
        "test_X  = vectorizer.transform(test_texts)"
      ]
    },
    {
      "cell_type": "code",
      "execution_count": 90,
      "metadata": {
        "id": "j1Ov0_alSwaw",
        "colab": {
          "base_uri": "https://localhost:8080/"
        },
        "outputId": "c0143f4b-3329-4414-ce3f-62b62be0bf91"
      },
      "outputs": [
        {
          "output_type": "execute_result",
          "data": {
            "text/plain": [
              "matrix([[0.0256651 , 0.        , 0.        , 0.        , 0.03476079,\n",
              "         0.        , 0.        , 0.06026636, 0.        , 0.        ,\n",
              "         0.15482339, 0.        , 0.        , 0.        , 0.0643213 ,\n",
              "         0.04045955, 0.        , 0.        , 0.        , 0.        ,\n",
              "         0.08583052, 0.        , 0.04156775, 0.        , 0.0635308 ,\n",
              "         0.03495004, 0.        , 0.        , 0.        , 0.14034109,\n",
              "         0.        , 0.032484  , 0.04171202, 0.        , 0.04355241,\n",
              "         0.        , 0.        , 0.02671395, 0.        , 0.03240255,\n",
              "         0.        , 0.        , 0.        , 0.        , 0.        ,\n",
              "         0.        , 0.        , 0.03153283, 0.        , 0.04508555],\n",
              "        [0.        , 0.04250264, 0.        , 0.        , 0.03878408,\n",
              "         0.        , 0.04066339, 0.13448344, 0.        , 0.06918248,\n",
              "         0.        , 0.        , 0.        , 0.        , 0.        ,\n",
              "         0.06771364, 0.09307971, 0.        , 0.        , 0.        ,\n",
              "         0.        , 0.07572696, 0.        , 0.        , 0.        ,\n",
              "         0.07799046, 0.        , 0.04356652, 0.        , 0.05219482,\n",
              "         0.        , 0.        , 0.        , 0.04788236, 0.        ,\n",
              "         0.        , 0.08086361, 0.        , 0.        , 0.        ,\n",
              "         0.        , 0.        , 0.        , 0.        , 0.03475819,\n",
              "         0.        , 0.        , 0.        , 0.        , 0.10060769]])"
            ]
          },
          "metadata": {},
          "execution_count": 90
        }
      ],
      "source": [
        "train_X.todense()[:2] # посмотрим на первые 2 строки"
      ]
    },
    {
      "cell_type": "code",
      "execution_count": 91,
      "metadata": {
        "id": "sXq69ObVTwe5",
        "colab": {
          "base_uri": "https://localhost:8080/"
        },
        "outputId": "6b591ab8-0f0f-44e7-f4be-eb3c3010143d"
      },
      "outputs": [
        {
          "output_type": "stream",
          "name": "stderr",
          "text": [
            "/usr/local/lib/python3.7/dist-packages/sklearn/utils/deprecation.py:87: FutureWarning: Function get_feature_names is deprecated; get_feature_names is deprecated in 1.0 and will be removed in 1.2. Please use get_feature_names_out instead.\n",
            "  warnings.warn(msg, category=FutureWarning)\n"
          ]
        },
        {
          "output_type": "execute_result",
          "data": {
            "text/plain": [
              "['автор',\n",
              " 'бизнес',\n",
              " 'быть',\n",
              " 'ваш',\n",
              " 'весь',\n",
              " 'вопрос',\n",
              " 'время',\n",
              " 'год',\n",
              " 'другой',\n",
              " 'жизнь']"
            ]
          },
          "metadata": {},
          "execution_count": 91
        }
      ],
      "source": [
        "vectorizer.get_feature_names()[:10]"
      ]
    },
    {
      "cell_type": "code",
      "execution_count": 92,
      "metadata": {
        "id": "0A8AO8PhSAY9",
        "colab": {
          "base_uri": "https://localhost:8080/"
        },
        "outputId": "eb387aca-8188-4087-9d4f-81544a327407"
      },
      "outputs": [
        {
          "output_type": "stream",
          "name": "stdout",
          "text": [
            "-1.7071506807802237 {'alpha': 0.01, 'l1_ratio': 0.01}\n"
          ]
        }
      ],
      "source": [
        "gs = GridSearchCV(estimator=ElasticNet(),\n",
        "                  param_grid=[{\"alpha\": np.arange(0.01, 1.01, 0.01),\n",
        "                               \"l1_ratio\": np.arange(0.01, 1.01, 0.01)}],\n",
        "                  scoring=\"neg_root_mean_squared_error\",\n",
        "                  cv=7)\n",
        "\n",
        "gs.fit(train_X, train_y)\n",
        "\n",
        "print(gs.best_score_, gs.best_params_)"
      ]
    },
    {
      "cell_type": "code",
      "source": [
        "clf = ElasticNet(alpha=0.01, l1_ratio=0.01)\n",
        "clf.fit(train_X, train_y)\n",
        "\n",
        "pred_y = clf.predict(test_X)\n",
        "\n",
        "print(mean_absolute_error(test_y, pred_y), mean_squared_error(test_y, pred_y), max_error(test_y, pred_y), r2_score(test_y, pred_y))"
      ],
      "metadata": {
        "id": "PuyZYX-BtvZk",
        "colab": {
          "base_uri": "https://localhost:8080/"
        },
        "outputId": "3e965e30-909f-4778-d5d1-d6edf38cbeb2"
      },
      "execution_count": 103,
      "outputs": [
        {
          "output_type": "stream",
          "name": "stdout",
          "text": [
            "1.1850612625405796 2.672617383919768 7.680856085110307 0.028850631619638634\n"
          ]
        }
      ]
    },
    {
      "cell_type": "code",
      "source": [
        "fig, ax = plt.subplots()\n",
        "\n",
        "plt.plot(range(clf.coef_.shape[0]), clf.coef_)\n",
        "\n",
        "ax.set_xlabel('TF-IDF-вектор для топ 50 слов')\n",
        "ax.set_ylabel('Значение весового коэффициента')\n",
        "\n",
        "plt.show()"
      ],
      "metadata": {
        "id": "O38zbnJf-3LD",
        "colab": {
          "base_uri": "https://localhost:8080/",
          "height": 497
        },
        "outputId": "7ab5a561-620f-4e09-8e97-c710c018a0a9"
      },
      "execution_count": 98,
      "outputs": [
        {
          "output_type": "display_data",
          "data": {
            "image/png": "[encoded data removed]",
            "text/plain": [
              "<Figure size 1440x576 with 1 Axes>"
            ]
          },
          "metadata": {
            "needs_background": "light"
          }
        }
      ]
    },
    {
      "cell_type": "markdown",
      "source": [
        "По данной модели можно сделать приблизительные выводы о будущем рейтинге книги. Максимальная ошибка составляет 7.68 баллов, средняя 1.18. Средняя ошибка не плохо, но максимальная пугает, но все равно какие-то выводы о книге по ее краткому описанию модель позволяет сделать. Данный не совсем удовлетворительный результат, я считаю, связан с неравномерностью распределения данных по рейтингам, как показоно ниже, а также с тем, что описание книги и ее рейтинг в данном случае связаны не напрямую, т.к. оценку ставят за время доставки книги, качество печати, за ее содержимое в целом и т.п.\n",
        "\n",
        "Можно сказать, что модель точна на столько на сколько высоко качество входных данных, в данном случае качество входных данных для обучения модели невысокое."
      ],
      "metadata": {
        "id": "tOBYa6FDECMa"
      }
    },
    {
      "cell_type": "code",
      "source": [
        "np.unique(np.array(y).astype(np.int16), return_counts=True)"
      ],
      "metadata": {
        "colab": {
          "base_uri": "https://localhost:8080/"
        },
        "id": "cBcE_En-v_MO",
        "outputId": "ceb790dc-2636-4b88-dc5f-b0ba4b33ee55"
      },
      "execution_count": 99,
      "outputs": [
        {
          "output_type": "execute_result",
          "data": {
            "text/plain": [
              "(array([ 1,  2,  3,  4,  5,  6,  7,  8,  9, 10], dtype=int16),\n",
              " array([ 10,   4,   5,  11,  30,  38,  59, 147, 219, 204]))"
            ]
          },
          "metadata": {},
          "execution_count": 99
        }
      ]
    }
  ],
  "metadata": {
    "colab": {
      "collapsed_sections": [],
      "name": "NLP.ipynb",
      "provenance": []
    },
    "kernelspec": {
      "display_name": "Python 3",
      "name": "python3"
    },
    "language_info": {
      "name": "python"
    },
    "widgets": {
      "application/vnd.jupyter.widget-state+json": {
        "537542cef33f472994495504f34fcddf": {
          "model_module": "@jupyter-widgets/controls",
          "model_name": "HBoxModel",
          "model_module_version": "1.5.0",
          "state": {
            "_view_name": "HBoxView",
            "_dom_classes": [],
            "_model_name": "HBoxModel",
            "_view_module": "@jupyter-widgets/controls",
            "_model_module_version": "1.5.0",
            "_view_count": null,
            "_view_module_version": "1.5.0",
            "box_style": "",
            "layout": "IPY_MODEL_fac98503e8804414b368cb761c29177d",
            "_model_module": "@jupyter-widgets/controls",
            "children": [
              "IPY_MODEL_80d250a3317f4f7f9f0d9beefb8f66f3",
              "IPY_MODEL_ef5ea0f3a0d0466bb1d3d464745cddf9",
              "IPY_MODEL_4ae92f7a9f7d498aa268c88e2c969dc0"
            ]
          }
        },
        "fac98503e8804414b368cb761c29177d": {
          "model_module": "@jupyter-widgets/base",
          "model_name": "LayoutModel",
          "model_module_version": "1.2.0",
          "state": {
            "_view_name": "LayoutView",
            "grid_template_rows": null,
            "right": null,
            "justify_content": null,
            "_view_module": "@jupyter-widgets/base",
            "overflow": null,
            "_model_module_version": "1.2.0",
            "_view_count": null,
            "flex_flow": null,
            "width": null,
            "min_width": null,
            "border": null,
            "align_items": null,
            "bottom": null,
            "_model_module": "@jupyter-widgets/base",
            "top": null,
            "grid_column": null,
            "overflow_y": null,
            "overflow_x": null,
            "grid_auto_flow": null,
            "grid_area": null,
            "grid_template_columns": null,
            "flex": null,
            "_model_name": "LayoutModel",
            "justify_items": null,
            "grid_row": null,
            "max_height": null,
            "align_content": null,
            "visibility": null,
            "align_self": null,
            "height": null,
            "min_height": null,
            "padding": null,
            "grid_auto_rows": null,
            "grid_gap": null,
            "max_width": null,
            "order": null,
            "_view_module_version": "1.2.0",
            "grid_template_areas": null,
            "object_position": null,
            "object_fit": null,
            "grid_auto_columns": null,
            "margin": null,
            "display": null,
            "left": null
          }
        },
        "80d250a3317f4f7f9f0d9beefb8f66f3": {
          "model_module": "@jupyter-widgets/controls",
          "model_name": "HTMLModel",
          "model_module_version": "1.5.0",
          "state": {
            "_view_name": "HTMLView",
            "style": "IPY_MODEL_d539b79657674055ad301bba24160fbf",
            "_dom_classes": [],
            "description": "",
            "_model_name": "HTMLModel",
            "placeholder": "​",
            "_view_module": "@jupyter-widgets/controls",
            "_model_module_version": "1.5.0",
            "value": "100%",
            "_view_count": null,
            "_view_module_version": "1.5.0",
            "description_tooltip": null,
            "_model_module": "@jupyter-widgets/controls",
            "layout": "IPY_MODEL_0938e9f20208465e838268f4bdbc3d22"
          }
        },
        "ef5ea0f3a0d0466bb1d3d464745cddf9": {
          "model_module": "@jupyter-widgets/controls",
          "model_name": "FloatProgressModel",
          "model_module_version": "1.5.0",
          "state": {
            "_view_name": "ProgressView",
            "style": "IPY_MODEL_719097c8d43a4e34b141bb11ea04f4ea",
            "_dom_classes": [],
            "description": "",
            "_model_name": "FloatProgressModel",
            "bar_style": "success",
            "max": 727,
            "_view_module": "@jupyter-widgets/controls",
            "_model_module_version": "1.5.0",
            "value": 727,
            "_view_count": null,
            "_view_module_version": "1.5.0",
            "orientation": "horizontal",
            "min": 0,
            "description_tooltip": null,
            "_model_module": "@jupyter-widgets/controls",
            "layout": "IPY_MODEL_9271f0034f9046dfa71017908e26af7a"
          }
        },
        "4ae92f7a9f7d498aa268c88e2c969dc0": {
          "model_module": "@jupyter-widgets/controls",
          "model_name": "HTMLModel",
          "model_module_version": "1.5.0",
          "state": {
            "_view_name": "HTMLView",
            "style": "IPY_MODEL_0d4253cec25047219fc816c07e879bae",
            "_dom_classes": [],
            "description": "",
            "_model_name": "HTMLModel",
            "placeholder": "​",
            "_view_module": "@jupyter-widgets/controls",
            "_model_module_version": "1.5.0",
            "value": " 727/727 [00:26&lt;00:00, 26.88it/s]",
            "_view_count": null,
            "_view_module_version": "1.5.0",
            "description_tooltip": null,
            "_model_module": "@jupyter-widgets/controls",
            "layout": "IPY_MODEL_2fbaa8561f9c432da706a2858c15c521"
          }
        },
        "d539b79657674055ad301bba24160fbf": {
          "model_module": "@jupyter-widgets/controls",
          "model_name": "DescriptionStyleModel",
          "model_module_version": "1.5.0",
          "state": {
            "_view_name": "StyleView",
            "_model_name": "DescriptionStyleModel",
            "description_width": "",
            "_view_module": "@jupyter-widgets/base",
            "_model_module_version": "1.5.0",
            "_view_count": null,
            "_view_module_version": "1.2.0",
            "_model_module": "@jupyter-widgets/controls"
          }
        },
        "0938e9f20208465e838268f4bdbc3d22": {
          "model_module": "@jupyter-widgets/base",
          "model_name": "LayoutModel",
          "model_module_version": "1.2.0",
          "state": {
            "_view_name": "LayoutView",
            "grid_template_rows": null,
            "right": null,
            "justify_content": null,
            "_view_module": "@jupyter-widgets/base",
            "overflow": null,
            "_model_module_version": "1.2.0",
            "_view_count": null,
            "flex_flow": null,
            "width": null,
            "min_width": null,
            "border": null,
            "align_items": null,
            "bottom": null,
            "_model_module": "@jupyter-widgets/base",
            "top": null,
            "grid_column": null,
            "overflow_y": null,
            "overflow_x": null,
            "grid_auto_flow": null,
            "grid_area": null,
            "grid_template_columns": null,
            "flex": null,
            "_model_name": "LayoutModel",
            "justify_items": null,
            "grid_row": null,
            "max_height": null,
            "align_content": null,
            "visibility": null,
            "align_self": null,
            "height": null,
            "min_height": null,
            "padding": null,
            "grid_auto_rows": null,
            "grid_gap": null,
            "max_width": null,
            "order": null,
            "_view_module_version": "1.2.0",
            "grid_template_areas": null,
            "object_position": null,
            "object_fit": null,
            "grid_auto_columns": null,
            "margin": null,
            "display": null,
            "left": null
          }
        },
        "719097c8d43a4e34b141bb11ea04f4ea": {
          "model_module": "@jupyter-widgets/controls",
          "model_name": "ProgressStyleModel",
          "model_module_version": "1.5.0",
          "state": {
            "_view_name": "StyleView",
            "_model_name": "ProgressStyleModel",
            "description_width": "",
            "_view_module": "@jupyter-widgets/base",
            "_model_module_version": "1.5.0",
            "_view_count": null,
            "_view_module_version": "1.2.0",
            "bar_color": null,
            "_model_module": "@jupyter-widgets/controls"
          }
        },
        "9271f0034f9046dfa71017908e26af7a": {
          "model_module": "@jupyter-widgets/base",
          "model_name": "LayoutModel",
          "model_module_version": "1.2.0",
          "state": {
            "_view_name": "LayoutView",
            "grid_template_rows": null,
            "right": null,
            "justify_content": null,
            "_view_module": "@jupyter-widgets/base",
            "overflow": null,
            "_model_module_version": "1.2.0",
            "_view_count": null,
            "flex_flow": null,
            "width": null,
            "min_width": null,
            "border": null,
            "align_items": null,
            "bottom": null,
            "_model_module": "@jupyter-widgets/base",
            "top": null,
            "grid_column": null,
            "overflow_y": null,
            "overflow_x": null,
            "grid_auto_flow": null,
            "grid_area": null,
            "grid_template_columns": null,
            "flex": null,
            "_model_name": "LayoutModel",
            "justify_items": null,
            "grid_row": null,
            "max_height": null,
            "align_content": null,
            "visibility": null,
            "align_self": null,
            "height": null,
            "min_height": null,
            "padding": null,
            "grid_auto_rows": null,
            "grid_gap": null,
            "max_width": null,
            "order": null,
            "_view_module_version": "1.2.0",
            "grid_template_areas": null,
            "object_position": null,
            "object_fit": null,
            "grid_auto_columns": null,
            "margin": null,
            "display": null,
            "left": null
          }
        },
        "0d4253cec25047219fc816c07e879bae": {
          "model_module": "@jupyter-widgets/controls",
          "model_name": "DescriptionStyleModel",
          "model_module_version": "1.5.0",
          "state": {
            "_view_name": "StyleView",
            "_model_name": "DescriptionStyleModel",
            "description_width": "",
            "_view_module": "@jupyter-widgets/base",
            "_model_module_version": "1.5.0",
            "_view_count": null,
            "_view_module_version": "1.2.0",
            "_model_module": "@jupyter-widgets/controls"
          }
        },
        "2fbaa8561f9c432da706a2858c15c521": {
          "model_module": "@jupyter-widgets/base",
          "model_name": "LayoutModel",
          "model_module_version": "1.2.0",
          "state": {
            "_view_name": "LayoutView",
            "grid_template_rows": null,
            "right": null,
            "justify_content": null,
            "_view_module": "@jupyter-widgets/base",
            "overflow": null,
            "_model_module_version": "1.2.0",
            "_view_count": null,
            "flex_flow": null,
            "width": null,
            "min_width": null,
            "border": null,
            "align_items": null,
            "bottom": null,
            "_model_module": "@jupyter-widgets/base",
            "top": null,
            "grid_column": null,
            "overflow_y": null,
            "overflow_x": null,
            "grid_auto_flow": null,
            "grid_area": null,
            "grid_template_columns": null,
            "flex": null,
            "_model_name": "LayoutModel",
            "justify_items": null,
            "grid_row": null,
            "max_height": null,
            "align_content": null,
            "visibility": null,
            "align_self": null,
            "height": null,
            "min_height": null,
            "padding": null,
            "grid_auto_rows": null,
            "grid_gap": null,
            "max_width": null,
            "order": null,
            "_view_module_version": "1.2.0",
            "grid_template_areas": null,
            "object_position": null,
            "object_fit": null,
            "grid_auto_columns": null,
            "margin": null,
            "display": null,
            "left": null
          }
        }
      }
    }
  },
  "nbformat": 4,
  "nbformat_minor": 0
}