{
  "cells": [
    {
      "cell_type": "code",
      "execution_count": 1,
      "metadata": {
        "id": "KFNOGAfOBkdi"
      },
      "outputs": [],
      "source": [
        "import warnings\n",
        "warnings.simplefilter('ignore')\n",
        "\n",
        "import numpy as np\n",
        "import pandas as pd\n",
        "\n",
        "import matplotlib\n",
        "import matplotlib.pyplot as plt\n",
        "import matplotlib.cm as cm\n",
        "from matplotlib import dates\n",
        "%matplotlib inline\n",
        "plt.rcParams[\"figure.figsize\"] = [30, 4]\n",
        "import seaborn as sns\n",
        "\n",
        "import json\n",
        "from tqdm import tqdm_notebook\n",
        "\n",
        "from sklearn.metrics import mean_squared_error\n",
        "from sklearn.metrics.pairwise import cosine_similarity\n",
        "from sklearn.base import BaseEstimator\n",
        "\n",
        "from sklearn.feature_extraction.text import TfidfVectorizer, TfidfTransformer"
      ]
    },
    {
      "cell_type": "code",
      "execution_count": 2,
      "metadata": {
        "id": "od8Rbe4SBuAS"
      },
      "outputs": [],
      "source": [
        "import gzip\n",
        "\n",
        "def parse(path):\n",
        "  g = gzip.open(path, 'rb')\n",
        "  for l in g:\n",
        "    yield json.loads(l)\n",
        "\n",
        "def getDF(path):\n",
        "  i = 0\n",
        "  df = {}\n",
        "  for d in parse(path):\n",
        "    df[i] = d\n",
        "    i += 1\n",
        "  return pd.DataFrame.from_dict(df, orient='index')"
      ]
    },
    {
      "cell_type": "code",
      "source": [
        "df = getDF('Video_Games_5.json.gz')"
      ],
      "metadata": {
        "id": "ReE_euY3BECs"
      },
      "execution_count": 3,
      "outputs": []
    },
    {
      "cell_type": "code",
      "source": [
        "df.info()"
      ],
      "metadata": {
        "colab": {
          "base_uri": "https://localhost:8080/"
        },
        "id": "1a5PXr8GniXu",
        "outputId": "5f5c6a56-d23c-4760-99e6-0968dd4556a5"
      },
      "execution_count": 4,
      "outputs": [
        {
          "output_type": "stream",
          "name": "stdout",
          "text": [
            "<class 'pandas.core.frame.DataFrame'>\n",
            "Int64Index: 497577 entries, 0 to 497576\n",
            "Data columns (total 12 columns):\n",
            " #   Column          Non-Null Count   Dtype  \n",
            "---  ------          --------------   -----  \n",
            " 0   overall         497577 non-null  float64\n",
            " 1   verified        497577 non-null  bool   \n",
            " 2   reviewTime      497577 non-null  object \n",
            " 3   reviewerID      497577 non-null  object \n",
            " 4   asin            497577 non-null  object \n",
            " 5   reviewerName    497501 non-null  object \n",
            " 6   reviewText      497419 non-null  object \n",
            " 7   summary         497468 non-null  object \n",
            " 8   unixReviewTime  497577 non-null  int64  \n",
            " 9   vote            107793 non-null  object \n",
            " 10  style           289237 non-null  object \n",
            " 11  image           3634 non-null    object \n",
            "dtypes: bool(1), float64(1), int64(1), object(9)\n",
            "memory usage: 46.0+ MB\n"
          ]
        }
      ]
    },
    {
      "cell_type": "code",
      "execution_count": 5,
      "metadata": {
        "id": "tW_H3OUdXBJr"
      },
      "outputs": [],
      "source": [
        "df.sort_values(by=[\"unixReviewTime\"], ignore_index=True, inplace=True)"
      ]
    },
    {
      "cell_type": "code",
      "execution_count": 6,
      "metadata": {
        "colab": {
          "base_uri": "https://localhost:8080/",
          "height": 206
        },
        "id": "igBMzvLwFHUs",
        "outputId": "abe0c5c5-a876-4695-f013-a924370e22df"
      },
      "outputs": [
        {
          "output_type": "execute_result",
          "data": {
            "text/plain": [
              "   overall  verified   reviewTime      reviewerID        asin  \\\n",
              "0      5.0     False  10 14, 1999  A2AXQTB83VMK4L  B0000296O5   \n",
              "1      4.0     False   11 5, 1999  A2T04VAIXSKJH2  B00002NDRY   \n",
              "2      4.0     False  11 10, 1999   AMGJMFJ63DWWH  B000021XYY   \n",
              "3      5.0     False  11 10, 1999  A1QA8K3LD9K892  B000021Y5F   \n",
              "4      5.0      True  11 10, 1999  A3VWWQT4XDSBGQ  B00000K4AX   \n",
              "\n",
              "       reviewerName                                         reviewText  \\\n",
              "0   Amazon Customer  I'm having the most fun I've ever had on PlayS...   \n",
              "1            Stefan  I'm usually not crazy about real-time strategy...   \n",
              "2       Ed Matuskey  This game actually scared me a couple times, a...   \n",
              "3     Chris Adamson  Williams made games for hard-core arcade gamer...   \n",
              "4  Joshua W. Fenton  If you loved Half-Life, this is a must buy. I ...   \n",
              "\n",
              "                           summary  unixReviewTime vote  \\\n",
              "0                   Best RPG Ever!       939859200  NaN   \n",
              "1     Good real time strategy game       941760000    3   \n",
              "2  A good game, but way too short!       942192000   10   \n",
              "3             A cool 80's artifact       942192000   68   \n",
              "4                         AWESOME!       942192000    5   \n",
              "\n",
              "                        style image  \n",
              "0  {'Format:': ' Video Game'}   NaN  \n",
              "1                         NaN   NaN  \n",
              "2                         NaN   NaN  \n",
              "3                         NaN   NaN  \n",
              "4                         NaN   NaN  "
            ],
            "text/html": [
              "\n",
              "  <div id=\"df-b1876535-ab5d-4145-8f9c-8586922194c8\">\n",
              "    <div class=\"colab-df-container\">\n",
              "      <div>\n",
              "<style scoped>\n",
              "    .dataframe tbody tr th:only-of-type {\n",
              "        vertical-align: middle;\n",
              "    }\n",
              "\n",
              "    .dataframe tbody tr th {\n",
              "        vertical-align: top;\n",
              "    }\n",
              "\n",
              "    .dataframe thead th {\n",
              "        text-align: right;\n",
              "    }\n",
              "</style>\n",
              "<table border=\"1\" class=\"dataframe\">\n",
              "  <thead>\n",
              "    <tr style=\"text-align: right;\">\n",
              "      <th></th>\n",
              "      <th>overall</th>\n",
              "      <th>verified</th>\n",
              "      <th>reviewTime</th>\n",
              "      <th>reviewerID</th>\n",
              "      <th>asin</th>\n",
              "      <th>reviewerName</th>\n",
              "      <th>reviewText</th>\n",
              "      <th>summary</th>\n",
              "      <th>unixReviewTime</th>\n",
              "      <th>vote</th>\n",
              "      <th>style</th>\n",
              "      <th>image</th>\n",
              "    </tr>\n",
              "  </thead>\n",
              "  <tbody>\n",
              "    <tr>\n",
              "      <th>0</th>\n",
              "      <td>5.0</td>\n",
              "      <td>False</td>\n",
              "      <td>10 14, 1999</td>\n",
              "      <td>A2AXQTB83VMK4L</td>\n",
              "      <td>B0000296O5</td>\n",
              "      <td>Amazon Customer</td>\n",
              "      <td>I'm having the most fun I've ever had on PlayS...</td>\n",
              "      <td>Best RPG Ever!</td>\n",
              "      <td>939859200</td>\n",
              "      <td>NaN</td>\n",
              "      <td>{'Format:': ' Video Game'}</td>\n",
              "      <td>NaN</td>\n",
              "    </tr>\n",
              "    <tr>\n",
              "      <th>1</th>\n",
              "      <td>4.0</td>\n",
              "      <td>False</td>\n",
              "      <td>11 5, 1999</td>\n",
              "      <td>A2T04VAIXSKJH2</td>\n",
              "      <td>B00002NDRY</td>\n",
              "      <td>Stefan</td>\n",
              "      <td>I'm usually not crazy about real-time strategy...</td>\n",
              "      <td>Good real time strategy game</td>\n",
              "      <td>941760000</td>\n",
              "      <td>3</td>\n",
              "      <td>NaN</td>\n",
              "      <td>NaN</td>\n",
              "    </tr>\n",
              "    <tr>\n",
              "      <th>2</th>\n",
              "      <td>4.0</td>\n",
              "      <td>False</td>\n",
              "      <td>11 10, 1999</td>\n",
              "      <td>AMGJMFJ63DWWH</td>\n",
              "      <td>B000021XYY</td>\n",
              "      <td>Ed Matuskey</td>\n",
              "      <td>This game actually scared me a couple times, a...</td>\n",
              "      <td>A good game, but way too short!</td>\n",
              "      <td>942192000</td>\n",
              "      <td>10</td>\n",
              "      <td>NaN</td>\n",
              "      <td>NaN</td>\n",
              "    </tr>\n",
              "    <tr>\n",
              "      <th>3</th>\n",
              "      <td>5.0</td>\n",
              "      <td>False</td>\n",
              "      <td>11 10, 1999</td>\n",
              "      <td>A1QA8K3LD9K892</td>\n",
              "      <td>B000021Y5F</td>\n",
              "      <td>Chris Adamson</td>\n",
              "      <td>Williams made games for hard-core arcade gamer...</td>\n",
              "      <td>A cool 80's artifact</td>\n",
              "      <td>942192000</td>\n",
              "      <td>68</td>\n",
              "      <td>NaN</td>\n",
              "      <td>NaN</td>\n",
              "    </tr>\n",
              "    <tr>\n",
              "      <th>4</th>\n",
              "      <td>5.0</td>\n",
              "      <td>True</td>\n",
              "      <td>11 10, 1999</td>\n",
              "      <td>A3VWWQT4XDSBGQ</td>\n",
              "      <td>B00000K4AX</td>\n",
              "      <td>Joshua W. Fenton</td>\n",
              "      <td>If you loved Half-Life, this is a must buy. I ...</td>\n",
              "      <td>AWESOME!</td>\n",
              "      <td>942192000</td>\n",
              "      <td>5</td>\n",
              "      <td>NaN</td>\n",
              "      <td>NaN</td>\n",
              "    </tr>\n",
              "  </tbody>\n",
              "</table>\n",
              "</div>\n",
              "      <button class=\"colab-df-convert\" onclick=\"convertToInteractive('df-b1876535-ab5d-4145-8f9c-8586922194c8')\"\n",
              "              title=\"Convert this dataframe to an interactive table.\"\n",
              "              style=\"display:none;\">\n",
              "        \n",
              "  <svg xmlns=\"http://www.w3.org/2000/svg\" height=\"24px\"viewBox=\"0 0 24 24\"\n",
              "       width=\"24px\">\n",
              "    <path d=\"M0 0h24v24H0V0z\" fill=\"none\"/>\n",
              "    <path d=\"M18.56 5.44l.94 2.06.94-2.06 2.06-.94-2.06-.94-.94-2.06-.94 2.06-2.06.94zm-11 1L8.5 8.5l.94-2.06 2.06-.94-2.06-.94L8.5 2.5l-.94 2.06-2.06.94zm10 10l.94 2.06.94-2.06 2.06-.94-2.06-.94-.94-2.06-.94 2.06-2.06.94z\"/><path d=\"M17.41 7.96l-1.37-1.37c-.4-.4-.92-.59-1.43-.59-.52 0-1.04.2-1.43.59L10.3 9.45l-7.72 7.72c-.78.78-.78 2.05 0 2.83L4 21.41c.39.39.9.59 1.41.59.51 0 1.02-.2 1.41-.59l7.78-7.78 2.81-2.81c.8-.78.8-2.07 0-2.86zM5.41 20L4 18.59l7.72-7.72 1.47 1.35L5.41 20z\"/>\n",
              "  </svg>\n",
              "      </button>\n",
              "      \n",
              "  <style>\n",
              "    .colab-df-container {\n",
              "      display:flex;\n",
              "      flex-wrap:wrap;\n",
              "      gap: 12px;\n",
              "    }\n",
              "\n",
              "    .colab-df-convert {\n",
              "      background-color: #E8F0FE;\n",
              "      border: none;\n",
              "      border-radius: 50%;\n",
              "      cursor: pointer;\n",
              "      display: none;\n",
              "      fill: #1967D2;\n",
              "      height: 32px;\n",
              "      padding: 0 0 0 0;\n",
              "      width: 32px;\n",
              "    }\n",
              "\n",
              "    .colab-df-convert:hover {\n",
              "      background-color: #E2EBFA;\n",
              "      box-shadow: 0px 1px 2px rgba(60, 64, 67, 0.3), 0px 1px 3px 1px rgba(60, 64, 67, 0.15);\n",
              "      fill: #174EA6;\n",
              "    }\n",
              "\n",
              "    [theme=dark] .colab-df-convert {\n",
              "      background-color: #3B4455;\n",
              "      fill: #D2E3FC;\n",
              "    }\n",
              "\n",
              "    [theme=dark] .colab-df-convert:hover {\n",
              "      background-color: #434B5C;\n",
              "      box-shadow: 0px 1px 3px 1px rgba(0, 0, 0, 0.15);\n",
              "      filter: drop-shadow(0px 1px 2px rgba(0, 0, 0, 0.3));\n",
              "      fill: #FFFFFF;\n",
              "    }\n",
              "  </style>\n",
              "\n",
              "      <script>\n",
              "        const buttonEl =\n",
              "          document.querySelector('#df-b1876535-ab5d-4145-8f9c-8586922194c8 button.colab-df-convert');\n",
              "        buttonEl.style.display =\n",
              "          google.colab.kernel.accessAllowed ? 'block' : 'none';\n",
              "\n",
              "        async function convertToInteractive(key) {\n",
              "          const element = document.querySelector('#df-b1876535-ab5d-4145-8f9c-8586922194c8');\n",
              "          const dataTable =\n",
              "            await google.colab.kernel.invokeFunction('convertToInteractive',\n",
              "                                                     [key], {});\n",
              "          if (!dataTable) return;\n",
              "\n",
              "          const docLinkHtml = 'Like what you see? Visit the ' +\n",
              "            '<a target=\"_blank\" href=https://colab.research.google.com/notebooks/data_table.ipynb>data table notebook</a>'\n",
              "            + ' to learn more about interactive tables.';\n",
              "          element.innerHTML = '';\n",
              "          dataTable['output_type'] = 'display_data';\n",
              "          await google.colab.output.renderOutput(dataTable, element);\n",
              "          const docLink = document.createElement('div');\n",
              "          docLink.innerHTML = docLinkHtml;\n",
              "          element.appendChild(docLink);\n",
              "        }\n",
              "      </script>\n",
              "    </div>\n",
              "  </div>\n",
              "  "
            ]
          },
          "metadata": {},
          "execution_count": 6
        }
      ],
      "source": [
        "df.head()"
      ]
    },
    {
      "cell_type": "code",
      "execution_count": 7,
      "metadata": {
        "id": "WkfVHzDyISGL"
      },
      "outputs": [],
      "source": [
        "data = df[[\"overall\", \"reviewerID\", \"asin\", \"unixReviewTime\"]]"
      ]
    },
    {
      "cell_type": "code",
      "execution_count": 8,
      "metadata": {
        "id": "G5V5DwMMN0Yf"
      },
      "outputs": [],
      "source": [
        "data.rename(columns={\"overall\": \"rating\", \"reviewerID\": \"userId\", \"asin\": \"itemId\", \"unixReviewTime\": \"timestamp\"}, inplace=True)"
      ]
    },
    {
      "cell_type": "code",
      "source": [
        "data = data.iloc[-50000 :, :]"
      ],
      "metadata": {
        "id": "cpl9EJEzE8t5"
      },
      "execution_count": 9,
      "outputs": []
    },
    {
      "cell_type": "code",
      "execution_count": 10,
      "metadata": {
        "colab": {
          "base_uri": "https://localhost:8080/",
          "height": 206
        },
        "id": "P8-lldyLMqYv",
        "outputId": "a32cf397-b5e0-4796-e406-1007cf7879e7"
      },
      "outputs": [
        {
          "output_type": "execute_result",
          "data": {
            "text/plain": [
              "        rating          userId      itemId   timestamp\n",
              "447577     5.0   AUOQA5SOYSCI5  B00NMST9G8  1483574400\n",
              "447578     5.0  A2A3L1JBYLBTS8  B004RMK57U  1483574400\n",
              "447579     5.0   AEKTRRHPH99MI  B017GY07L4  1483574400\n",
              "447580     1.0   A8LY6O6PNNMT2  B0149HT55K  1483574400\n",
              "447581     5.0  A2CMJSSIIYG8TN  B00CJXYR3W  1483574400"
            ],
            "text/html": [
              "\n",
              "  <div id=\"df-a88c2cfc-5577-41bf-bcb6-2c1cd9e77392\">\n",
              "    <div class=\"colab-df-container\">\n",
              "      <div>\n",
              "<style scoped>\n",
              "    .dataframe tbody tr th:only-of-type {\n",
              "        vertical-align: middle;\n",
              "    }\n",
              "\n",
              "    .dataframe tbody tr th {\n",
              "        vertical-align: top;\n",
              "    }\n",
              "\n",
              "    .dataframe thead th {\n",
              "        text-align: right;\n",
              "    }\n",
              "</style>\n",
              "<table border=\"1\" class=\"dataframe\">\n",
              "  <thead>\n",
              "    <tr style=\"text-align: right;\">\n",
              "      <th></th>\n",
              "      <th>rating</th>\n",
              "      <th>userId</th>\n",
              "      <th>itemId</th>\n",
              "      <th>timestamp</th>\n",
              "    </tr>\n",
              "  </thead>\n",
              "  <tbody>\n",
              "    <tr>\n",
              "      <th>447577</th>\n",
              "      <td>5.0</td>\n",
              "      <td>AUOQA5SOYSCI5</td>\n",
              "      <td>B00NMST9G8</td>\n",
              "      <td>1483574400</td>\n",
              "    </tr>\n",
              "    <tr>\n",
              "      <th>447578</th>\n",
              "      <td>5.0</td>\n",
              "      <td>A2A3L1JBYLBTS8</td>\n",
              "      <td>B004RMK57U</td>\n",
              "      <td>1483574400</td>\n",
              "    </tr>\n",
              "    <tr>\n",
              "      <th>447579</th>\n",
              "      <td>5.0</td>\n",
              "      <td>AEKTRRHPH99MI</td>\n",
              "      <td>B017GY07L4</td>\n",
              "      <td>1483574400</td>\n",
              "    </tr>\n",
              "    <tr>\n",
              "      <th>447580</th>\n",
              "      <td>1.0</td>\n",
              "      <td>A8LY6O6PNNMT2</td>\n",
              "      <td>B0149HT55K</td>\n",
              "      <td>1483574400</td>\n",
              "    </tr>\n",
              "    <tr>\n",
              "      <th>447581</th>\n",
              "      <td>5.0</td>\n",
              "      <td>A2CMJSSIIYG8TN</td>\n",
              "      <td>B00CJXYR3W</td>\n",
              "      <td>1483574400</td>\n",
              "    </tr>\n",
              "  </tbody>\n",
              "</table>\n",
              "</div>\n",
              "      <button class=\"colab-df-convert\" onclick=\"convertToInteractive('df-a88c2cfc-5577-41bf-bcb6-2c1cd9e77392')\"\n",
              "              title=\"Convert this dataframe to an interactive table.\"\n",
              "              style=\"display:none;\">\n",
              "        \n",
              "  <svg xmlns=\"http://www.w3.org/2000/svg\" height=\"24px\"viewBox=\"0 0 24 24\"\n",
              "       width=\"24px\">\n",
              "    <path d=\"M0 0h24v24H0V0z\" fill=\"none\"/>\n",
              "    <path d=\"M18.56 5.44l.94 2.06.94-2.06 2.06-.94-2.06-.94-.94-2.06-.94 2.06-2.06.94zm-11 1L8.5 8.5l.94-2.06 2.06-.94-2.06-.94L8.5 2.5l-.94 2.06-2.06.94zm10 10l.94 2.06.94-2.06 2.06-.94-2.06-.94-.94-2.06-.94 2.06-2.06.94z\"/><path d=\"M17.41 7.96l-1.37-1.37c-.4-.4-.92-.59-1.43-.59-.52 0-1.04.2-1.43.59L10.3 9.45l-7.72 7.72c-.78.78-.78 2.05 0 2.83L4 21.41c.39.39.9.59 1.41.59.51 0 1.02-.2 1.41-.59l7.78-7.78 2.81-2.81c.8-.78.8-2.07 0-2.86zM5.41 20L4 18.59l7.72-7.72 1.47 1.35L5.41 20z\"/>\n",
              "  </svg>\n",
              "      </button>\n",
              "      \n",
              "  <style>\n",
              "    .colab-df-container {\n",
              "      display:flex;\n",
              "      flex-wrap:wrap;\n",
              "      gap: 12px;\n",
              "    }\n",
              "\n",
              "    .colab-df-convert {\n",
              "      background-color: #E8F0FE;\n",
              "      border: none;\n",
              "      border-radius: 50%;\n",
              "      cursor: pointer;\n",
              "      display: none;\n",
              "      fill: #1967D2;\n",
              "      height: 32px;\n",
              "      padding: 0 0 0 0;\n",
              "      width: 32px;\n",
              "    }\n",
              "\n",
              "    .colab-df-convert:hover {\n",
              "      background-color: #E2EBFA;\n",
              "      box-shadow: 0px 1px 2px rgba(60, 64, 67, 0.3), 0px 1px 3px 1px rgba(60, 64, 67, 0.15);\n",
              "      fill: #174EA6;\n",
              "    }\n",
              "\n",
              "    [theme=dark] .colab-df-convert {\n",
              "      background-color: #3B4455;\n",
              "      fill: #D2E3FC;\n",
              "    }\n",
              "\n",
              "    [theme=dark] .colab-df-convert:hover {\n",
              "      background-color: #434B5C;\n",
              "      box-shadow: 0px 1px 3px 1px rgba(0, 0, 0, 0.15);\n",
              "      filter: drop-shadow(0px 1px 2px rgba(0, 0, 0, 0.3));\n",
              "      fill: #FFFFFF;\n",
              "    }\n",
              "  </style>\n",
              "\n",
              "      <script>\n",
              "        const buttonEl =\n",
              "          document.querySelector('#df-a88c2cfc-5577-41bf-bcb6-2c1cd9e77392 button.colab-df-convert');\n",
              "        buttonEl.style.display =\n",
              "          google.colab.kernel.accessAllowed ? 'block' : 'none';\n",
              "\n",
              "        async function convertToInteractive(key) {\n",
              "          const element = document.querySelector('#df-a88c2cfc-5577-41bf-bcb6-2c1cd9e77392');\n",
              "          const dataTable =\n",
              "            await google.colab.kernel.invokeFunction('convertToInteractive',\n",
              "                                                     [key], {});\n",
              "          if (!dataTable) return;\n",
              "\n",
              "          const docLinkHtml = 'Like what you see? Visit the ' +\n",
              "            '<a target=\"_blank\" href=https://colab.research.google.com/notebooks/data_table.ipynb>data table notebook</a>'\n",
              "            + ' to learn more about interactive tables.';\n",
              "          element.innerHTML = '';\n",
              "          dataTable['output_type'] = 'display_data';\n",
              "          await google.colab.output.renderOutput(dataTable, element);\n",
              "          const docLink = document.createElement('div');\n",
              "          docLink.innerHTML = docLinkHtml;\n",
              "          element.appendChild(docLink);\n",
              "        }\n",
              "      </script>\n",
              "    </div>\n",
              "  </div>\n",
              "  "
            ]
          },
          "metadata": {},
          "execution_count": 10
        }
      ],
      "source": [
        "data.head()"
      ]
    },
    {
      "cell_type": "code",
      "execution_count": 11,
      "metadata": {
        "id": "m838TU7sRWDu"
      },
      "outputs": [],
      "source": [
        "df = getDF('meta_Video_Games.json.gz')"
      ]
    },
    {
      "cell_type": "code",
      "execution_count": 12,
      "metadata": {
        "id": "4cj6O3jlSE1X"
      },
      "outputs": [],
      "source": [
        "df = df[[\"asin\", \"title\"]]\n",
        "df.rename(columns={\"asin\": \"itemId\"}, inplace=True)"
      ]
    },
    {
      "cell_type": "code",
      "execution_count": 13,
      "metadata": {
        "id": "-PXXRfayWCZP"
      },
      "outputs": [],
      "source": [
        "data = data.merge(df, how='left', on=\"itemId\")\n",
        "data.drop_duplicates([\"userId\", \"itemId\", \"timestamp\"], ignore_index=True, inplace=True)"
      ]
    },
    {
      "cell_type": "code",
      "execution_count": 14,
      "metadata": {
        "colab": {
          "base_uri": "https://localhost:8080/",
          "height": 206
        },
        "id": "zmq_RmE7TLhT",
        "outputId": "04d48403-d3df-4b36-d368-b3789ba1c781"
      },
      "outputs": [
        {
          "output_type": "execute_result",
          "data": {
            "text/plain": [
              "   rating          userId      itemId   timestamp  \\\n",
              "0     5.0   AUOQA5SOYSCI5  B00NMST9G8  1483574400   \n",
              "1     5.0  A2A3L1JBYLBTS8  B004RMK57U  1483574400   \n",
              "2     5.0   AEKTRRHPH99MI  B017GY07L4  1483574400   \n",
              "3     1.0   A8LY6O6PNNMT2  B0149HT55K  1483574400   \n",
              "4     5.0  A2CMJSSIIYG8TN  B00CJXYR3W  1483574400   \n",
              "\n",
              "                                               title  \n",
              "0  Xbox One Kinect Sensor with Dance Central Spot...  \n",
              "1  Playstation Plus: 3 Month Membership [Digital ...  \n",
              "2                    Nights of Azure - PlayStation 4  \n",
              "3    Mega Man Legacy Collection - PS4 [Digital Code]  \n",
              "4                               The Evil Within - PC  "
            ],
            "text/html": [
              "\n",
              "  <div id=\"df-c4c6e456-8649-48c9-9e06-299a928eeb9b\">\n",
              "    <div class=\"colab-df-container\">\n",
              "      <div>\n",
              "<style scoped>\n",
              "    .dataframe tbody tr th:only-of-type {\n",
              "        vertical-align: middle;\n",
              "    }\n",
              "\n",
              "    .dataframe tbody tr th {\n",
              "        vertical-align: top;\n",
              "    }\n",
              "\n",
              "    .dataframe thead th {\n",
              "        text-align: right;\n",
              "    }\n",
              "</style>\n",
              "<table border=\"1\" class=\"dataframe\">\n",
              "  <thead>\n",
              "    <tr style=\"text-align: right;\">\n",
              "      <th></th>\n",
              "      <th>rating</th>\n",
              "      <th>userId</th>\n",
              "      <th>itemId</th>\n",
              "      <th>timestamp</th>\n",
              "      <th>title</th>\n",
              "    </tr>\n",
              "  </thead>\n",
              "  <tbody>\n",
              "    <tr>\n",
              "      <th>0</th>\n",
              "      <td>5.0</td>\n",
              "      <td>AUOQA5SOYSCI5</td>\n",
              "      <td>B00NMST9G8</td>\n",
              "      <td>1483574400</td>\n",
              "      <td>Xbox One Kinect Sensor with Dance Central Spot...</td>\n",
              "    </tr>\n",
              "    <tr>\n",
              "      <th>1</th>\n",
              "      <td>5.0</td>\n",
              "      <td>A2A3L1JBYLBTS8</td>\n",
              "      <td>B004RMK57U</td>\n",
              "      <td>1483574400</td>\n",
              "      <td>Playstation Plus: 3 Month Membership [Digital ...</td>\n",
              "    </tr>\n",
              "    <tr>\n",
              "      <th>2</th>\n",
              "      <td>5.0</td>\n",
              "      <td>AEKTRRHPH99MI</td>\n",
              "      <td>B017GY07L4</td>\n",
              "      <td>1483574400</td>\n",
              "      <td>Nights of Azure - PlayStation 4</td>\n",
              "    </tr>\n",
              "    <tr>\n",
              "      <th>3</th>\n",
              "      <td>1.0</td>\n",
              "      <td>A8LY6O6PNNMT2</td>\n",
              "      <td>B0149HT55K</td>\n",
              "      <td>1483574400</td>\n",
              "      <td>Mega Man Legacy Collection - PS4 [Digital Code]</td>\n",
              "    </tr>\n",
              "    <tr>\n",
              "      <th>4</th>\n",
              "      <td>5.0</td>\n",
              "      <td>A2CMJSSIIYG8TN</td>\n",
              "      <td>B00CJXYR3W</td>\n",
              "      <td>1483574400</td>\n",
              "      <td>The Evil Within - PC</td>\n",
              "    </tr>\n",
              "  </tbody>\n",
              "</table>\n",
              "</div>\n",
              "      <button class=\"colab-df-convert\" onclick=\"convertToInteractive('df-c4c6e456-8649-48c9-9e06-299a928eeb9b')\"\n",
              "              title=\"Convert this dataframe to an interactive table.\"\n",
              "              style=\"display:none;\">\n",
              "        \n",
              "  <svg xmlns=\"http://www.w3.org/2000/svg\" height=\"24px\"viewBox=\"0 0 24 24\"\n",
              "       width=\"24px\">\n",
              "    <path d=\"M0 0h24v24H0V0z\" fill=\"none\"/>\n",
              "    <path d=\"M18.56 5.44l.94 2.06.94-2.06 2.06-.94-2.06-.94-.94-2.06-.94 2.06-2.06.94zm-11 1L8.5 8.5l.94-2.06 2.06-.94-2.06-.94L8.5 2.5l-.94 2.06-2.06.94zm10 10l.94 2.06.94-2.06 2.06-.94-2.06-.94-.94-2.06-.94 2.06-2.06.94z\"/><path d=\"M17.41 7.96l-1.37-1.37c-.4-.4-.92-.59-1.43-.59-.52 0-1.04.2-1.43.59L10.3 9.45l-7.72 7.72c-.78.78-.78 2.05 0 2.83L4 21.41c.39.39.9.59 1.41.59.51 0 1.02-.2 1.41-.59l7.78-7.78 2.81-2.81c.8-.78.8-2.07 0-2.86zM5.41 20L4 18.59l7.72-7.72 1.47 1.35L5.41 20z\"/>\n",
              "  </svg>\n",
              "      </button>\n",
              "      \n",
              "  <style>\n",
              "    .colab-df-container {\n",
              "      display:flex;\n",
              "      flex-wrap:wrap;\n",
              "      gap: 12px;\n",
              "    }\n",
              "\n",
              "    .colab-df-convert {\n",
              "      background-color: #E8F0FE;\n",
              "      border: none;\n",
              "      border-radius: 50%;\n",
              "      cursor: pointer;\n",
              "      display: none;\n",
              "      fill: #1967D2;\n",
              "      height: 32px;\n",
              "      padding: 0 0 0 0;\n",
              "      width: 32px;\n",
              "    }\n",
              "\n",
              "    .colab-df-convert:hover {\n",
              "      background-color: #E2EBFA;\n",
              "      box-shadow: 0px 1px 2px rgba(60, 64, 67, 0.3), 0px 1px 3px 1px rgba(60, 64, 67, 0.15);\n",
              "      fill: #174EA6;\n",
              "    }\n",
              "\n",
              "    [theme=dark] .colab-df-convert {\n",
              "      background-color: #3B4455;\n",
              "      fill: #D2E3FC;\n",
              "    }\n",
              "\n",
              "    [theme=dark] .colab-df-convert:hover {\n",
              "      background-color: #434B5C;\n",
              "      box-shadow: 0px 1px 3px 1px rgba(0, 0, 0, 0.15);\n",
              "      filter: drop-shadow(0px 1px 2px rgba(0, 0, 0, 0.3));\n",
              "      fill: #FFFFFF;\n",
              "    }\n",
              "  </style>\n",
              "\n",
              "      <script>\n",
              "        const buttonEl =\n",
              "          document.querySelector('#df-c4c6e456-8649-48c9-9e06-299a928eeb9b button.colab-df-convert');\n",
              "        buttonEl.style.display =\n",
              "          google.colab.kernel.accessAllowed ? 'block' : 'none';\n",
              "\n",
              "        async function convertToInteractive(key) {\n",
              "          const element = document.querySelector('#df-c4c6e456-8649-48c9-9e06-299a928eeb9b');\n",
              "          const dataTable =\n",
              "            await google.colab.kernel.invokeFunction('convertToInteractive',\n",
              "                                                     [key], {});\n",
              "          if (!dataTable) return;\n",
              "\n",
              "          const docLinkHtml = 'Like what you see? Visit the ' +\n",
              "            '<a target=\"_blank\" href=https://colab.research.google.com/notebooks/data_table.ipynb>data table notebook</a>'\n",
              "            + ' to learn more about interactive tables.';\n",
              "          element.innerHTML = '';\n",
              "          dataTable['output_type'] = 'display_data';\n",
              "          await google.colab.output.renderOutput(dataTable, element);\n",
              "          const docLink = document.createElement('div');\n",
              "          docLink.innerHTML = docLinkHtml;\n",
              "          element.appendChild(docLink);\n",
              "        }\n",
              "      </script>\n",
              "    </div>\n",
              "  </div>\n",
              "  "
            ]
          },
          "metadata": {},
          "execution_count": 14
        }
      ],
      "source": [
        "data.head()"
      ]
    },
    {
      "cell_type": "code",
      "execution_count": 15,
      "metadata": {
        "colab": {
          "base_uri": "https://localhost:8080/"
        },
        "id": "VLOJhV_TcJL2",
        "outputId": "b7daa4cc-5829-4ac2-8759-0c1127263c6d"
      },
      "outputs": [
        {
          "output_type": "execute_result",
          "data": {
            "text/plain": [
              "5.0    33551\n",
              "4.0     6994\n",
              "3.0     3919\n",
              "1.0     3053\n",
              "2.0     1924\n",
              "Name: rating, dtype: int64"
            ]
          },
          "metadata": {},
          "execution_count": 15
        }
      ],
      "source": [
        "data.loc[:, \"rating\"].value_counts()"
      ]
    },
    {
      "cell_type": "code",
      "execution_count": 16,
      "metadata": {
        "colab": {
          "base_uri": "https://localhost:8080/"
        },
        "id": "ZJzS9X7icPae",
        "outputId": "480a6265-e316-4f09-9716-cf8426867899"
      },
      "outputs": [
        {
          "output_type": "execute_result",
          "data": {
            "text/plain": [
              "AV4L1ENY6YOCM     64\n",
              "A328B6CD2BRMG9    64\n",
              "A2FDY4Y7DAUR7H    54\n",
              "A31H1ECKRMHRRQ    52\n",
              "A3TAU1P95J1PGX    52\n",
              "                  ..\n",
              "A3Q8X9MNQTADUC     1\n",
              "A3G4BFD7FN8VF1     1\n",
              "A36Y6O6893JQAT     1\n",
              "A334J1SZQ4HY9S     1\n",
              "A1TCZLL90BWIWH     1\n",
              "Name: userId, Length: 15065, dtype: int64"
            ]
          },
          "metadata": {},
          "execution_count": 16
        }
      ],
      "source": [
        "data.loc[:, \"userId\"].value_counts()"
      ]
    },
    {
      "cell_type": "code",
      "execution_count": 17,
      "metadata": {
        "colab": {
          "base_uri": "https://localhost:8080/"
        },
        "id": "nOc49-MecgGG",
        "outputId": "22fa84e5-4cc8-453a-a678-d648c6353477"
      },
      "outputs": [
        {
          "output_type": "execute_result",
          "data": {
            "text/plain": [
              "itemId    \n",
              "B00ZQC73O8    506\n",
              "B004RMK57U    357\n",
              "B01GW3POY0    257\n",
              "B00BGA9X9W    225\n",
              "B00LCHZRIK    209\n",
              "             ... \n",
              "B0025UMW4A      1\n",
              "B0025P9I9C      1\n",
              "B0025KZV8E      1\n",
              "B00255V7JQ      1\n",
              "B004YVC1CG      1\n",
              "Length: 9873, dtype: int64"
            ]
          },
          "metadata": {},
          "execution_count": 17
        }
      ],
      "source": [
        "data.loc[:, [\"itemId\"]].value_counts()"
      ]
    },
    {
      "cell_type": "markdown",
      "metadata": {
        "id": "yfaqFxOpNXJh"
      },
      "source": [
        "Разбиваем данные на тренировочные и тестовые."
      ]
    },
    {
      "cell_type": "code",
      "source": [
        "def train_test_split(X, ratio=0.2, user_col='userId', item_col='itemId',\n",
        "                     rating_col='rating', time_col='timestamp'):\n",
        "    # список всех юзеров\n",
        "    userIds = X[user_col].unique()\n",
        "\n",
        "    X_train = X[[user_col, item_col]].copy()\n",
        "    y_train = X[rating_col].values.copy()\n",
        "\n",
        "    idxs_test = []\n",
        "    for userId in tqdm_notebook(userIds):\n",
        "        curUser = X[X[user_col] == userId]\n",
        "        if curUser.shape[0] < 3: continue\n",
        "        # определяем позицию, по которой делим выборку и размещаем данные по массивам\n",
        "        idx = int(curUser.shape[0] * (1 - ratio))\n",
        "\n",
        "        idxs_test += list(curUser.index[idx :].values)\n",
        "\n",
        "    idxs_test.sort()\n",
        "\n",
        "    y_train[idxs_test] = 0.                                                      # Зануляем рейтинги тестовых данных\n",
        "\n",
        "    X_test = X[[user_col, item_col]].iloc[idxs_test, :].copy()\n",
        "    y_test = X[rating_col].iloc[idxs_test].values.copy()\n",
        "\n",
        "    return X_train, X_test, y_train, y_test, idxs_test"
      ],
      "metadata": {
        "id": "rZwj5aGEGAXX"
      },
      "execution_count": 18,
      "outputs": []
    },
    {
      "cell_type": "code",
      "execution_count": 19,
      "metadata": {
        "id": "YLSttVO15cQ6",
        "colab": {
          "base_uri": "https://localhost:8080/",
          "height": 49,
          "referenced_widgets": [
            "b64cf9970f4e426b82adcc42fd4a8ceb",
            "2d43c423189041b4a0bb026dedb087ce",
            "f901a9a542fd4fd9a0f6a820c43cd922",
            "8d3f7bee1a9a41538dd81174be3b4013",
            "f130d1bafb4f42e7b1985fa88d60a29e",
            "aac85e8190744a61901d053db7c6972e",
            "7dae674da4c3449a982bcf2c607618e3",
            "57f8ef2a39314ee5bcfda09e75549dff",
            "86cc1d67935c457ba69ca119ff7a63fc",
            "f349b109a9884712bd4b7ce209ca0d54",
            "9b466b7d9d9c488eb64b10440788d2e4"
          ]
        },
        "outputId": "9901b5f4-776f-4941-9e78-0d9eb612961f"
      },
      "outputs": [
        {
          "output_type": "display_data",
          "data": {
            "text/plain": [
              "  0%|          | 0/15065 [00:00<?, ?it/s]"
            ],
            "application/vnd.jupyter.widget-view+json": {
              "version_major": 2,
              "version_minor": 0,
              "model_id": "b64cf9970f4e426b82adcc42fd4a8ceb"
            }
          },
          "metadata": {}
        }
      ],
      "source": [
        "X_train, X_test, y_train, y_test, idxs_test = train_test_split(data, 0.2)"
      ]
    },
    {
      "cell_type": "code",
      "execution_count": 20,
      "metadata": {
        "colab": {
          "base_uri": "https://localhost:8080/"
        },
        "id": "LJXwcGVckvCB",
        "outputId": "753241e7-5c4a-44e9-c323-e46f0a510ecf"
      },
      "outputs": [
        {
          "output_type": "execute_result",
          "data": {
            "text/plain": [
              "((49441, 2), 49441, (9802, 2), 9802)"
            ]
          },
          "metadata": {},
          "execution_count": 20
        }
      ],
      "source": [
        "X_train.shape, len(y_train), X_test.shape, len(y_test)"
      ]
    },
    {
      "cell_type": "markdown",
      "metadata": {
        "id": "rpUXUZN6fhLy"
      },
      "source": [
        "**Collaborative filtering.**"
      ]
    },
    {
      "cell_type": "markdown",
      "metadata": {
        "id": "OoO6RCdvfrFa"
      },
      "source": [
        "**User-based, item-based models.**"
      ]
    },
    {
      "cell_type": "code",
      "execution_count": 21,
      "metadata": {
        "id": "p6rK6MG7hqop"
      },
      "outputs": [],
      "source": [
        "class UserItemBased(BaseEstimator):\n",
        "    def __init__(self, isUserBasedModel):\n",
        "        super().__init__()\n",
        "        self.isUserBasedModel = isUserBasedModel\n",
        "\n",
        "    def fit(self, X, y, user_col='userId', item_col='itemId'):\n",
        "        X = X.copy()\n",
        "        X['rating'] = y\n",
        "\n",
        "        self.userIds = list(X[user_col].unique())\n",
        "        self.itemIds = list(X[item_col].unique())\n",
        "        ratings = X[[user_col, item_col, \"rating\"]].groupby([user_col, item_col]).mean().to_dict()[\"rating\"]\n",
        "        \n",
        "        # Создаем разряженный массив рейтингов\n",
        "        self.user_item_ratings = np.zeros((len(self.userIds), len(self.itemIds)))\n",
        "        # Заполняем массив\n",
        "        for key in list(ratings.keys()):\n",
        "            userId, itemId = key\n",
        "            userIdd = self.userIds.index(userId)    # Цифровой идентификатор пользователя\n",
        "            itemIdd = self.itemIds.index(itemId)    # Цифровой идентификатор товара\n",
        "\n",
        "            self.user_item_ratings[userIdd, itemIdd] = ratings[key]\n",
        "\n",
        "        if not self.isUserBasedModel: self.user_item_ratings = np.transpose(self.user_item_ratings)       # Транспонируем разряженный массив\n",
        "\n",
        "        # Массив рейтингов минус средний рейтинг по каждому пользователю (товару)\n",
        "        arr_counts = np.count_nonzero(self.user_item_ratings, axis=1)\n",
        "        arr_counts[arr_counts == 0] = 1\n",
        "        self.user_item_ratings_mean = np.sum(self.user_item_ratings, axis=1) / arr_counts\n",
        "\n",
        "        self.user_item_ratings_without_mean = self.user_item_ratings - self.user_item_ratings_mean[:, np.newaxis]\n",
        "        self.user_item_ratings_without_mean[self.user_item_ratings == 0.] = 0.   # 0 - значит нет значения, поэтому обнуляем ячейки, где изначально был 0\n",
        "\n",
        "        # Cчитаем попарную схожесть между юзерами (товарами)\n",
        "        self.similarity = cosine_similarity(self.user_item_ratings_without_mean)\n",
        "\n",
        "        return self\n",
        "\n",
        "    def predict_rating(self, userId, itemId):\n",
        "        # если в обучающей выборке нет такого предмета или пользователя, то вернём 0\n",
        "        if not (userId in self.userIds) or not (itemId in self.itemIds): return 0.\n",
        "\n",
        "        userIdd = self.userIds.index(userId)    # Цифровой идентификатор пользователя\n",
        "        itemIdd = self.itemIds.index(itemId)    # Цифровой идентификатор товара\n",
        "\n",
        "        if self.isUserBasedModel:\n",
        "            rowId = userIdd; colId = itemIdd\n",
        "        else:\n",
        "            rowId = itemIdd; colId = userIdd\n",
        "\n",
        "        if np.sum(np.abs(self.similarity[rowId, :])) == 1.: return 0.\n",
        "\n",
        "        return self.user_item_ratings_mean[rowId] + \\\n",
        "               np.dot(self.similarity[rowId, :], self.user_item_ratings_without_mean[:, colId]) / (np.sum(np.abs(self.similarity[rowId, :])) - 1.)\n",
        "    \n",
        "    def predict(self, X, user_col='userId', item_col='itemId'):\n",
        "        y = X[[user_col, item_col]].apply(lambda row: self.predict_rating(row[0], row[1]), axis=1).values\n",
        "        return y"
      ]
    },
    {
      "cell_type": "code",
      "execution_count": 22,
      "metadata": {
        "id": "v-MJ0Cf8j1Wc"
      },
      "outputs": [],
      "source": [
        "rmse = lambda y_true, y_pred: np.sqrt(mean_squared_error(y_true, y_pred))"
      ]
    },
    {
      "cell_type": "markdown",
      "metadata": {
        "id": "2eHGl281bOcw"
      },
      "source": [
        "**User-based model.**"
      ]
    },
    {
      "cell_type": "code",
      "execution_count": 23,
      "metadata": {
        "id": "9MOuvgZpiC3e",
        "colab": {
          "base_uri": "https://localhost:8080/"
        },
        "outputId": "590e4990-5221-4fa9-ff94-24bd8e60e3aa"
      },
      "outputs": [
        {
          "output_type": "stream",
          "name": "stdout",
          "text": [
            "rmse = 1.0440882803245444\n"
          ]
        }
      ],
      "source": [
        "uib = UserItemBased(isUserBasedModel=True).fit(X_train, y_train)\n",
        "\n",
        "y_pred_ub = uib.predict(X_test)\n",
        "\n",
        "print('rmse = {}'.format(rmse(y_test, y_pred_ub)))"
      ]
    },
    {
      "cell_type": "markdown",
      "metadata": {
        "id": "rpEl16MlOulA"
      },
      "source": [
        "**Item-based model.**"
      ]
    },
    {
      "cell_type": "code",
      "execution_count": 24,
      "metadata": {
        "id": "TQl7332WOdcu",
        "colab": {
          "base_uri": "https://localhost:8080/"
        },
        "outputId": "c553e58c-dbad-40eb-a27e-66672c46b942"
      },
      "outputs": [
        {
          "output_type": "stream",
          "name": "stdout",
          "text": [
            "rmse = 1.792067635152466\n"
          ]
        }
      ],
      "source": [
        "uib = UserItemBased(isUserBasedModel=False).fit(X_train, y_train)\n",
        "\n",
        "y_pred = uib.predict(X_test)\n",
        "\n",
        "print('rmse = {}'.format(rmse(y_test, y_pred)))"
      ]
    },
    {
      "cell_type": "markdown",
      "metadata": {
        "id": "eELZzX8EVZDr"
      },
      "source": [
        "Видим, что модель user-based хорошего качества, а item-based не очень."
      ]
    },
    {
      "cell_type": "code",
      "execution_count": 25,
      "metadata": {
        "id": "bIkJOlwzH0kN"
      },
      "outputs": [],
      "source": [
        "pred_data = data.iloc[idxs_test, :].copy()"
      ]
    },
    {
      "cell_type": "code",
      "execution_count": 26,
      "metadata": {
        "id": "iY_4e-4nH8Tl"
      },
      "outputs": [],
      "source": [
        "pred_data[\"pred_rating\"] = y_pred_ub"
      ]
    },
    {
      "cell_type": "code",
      "execution_count": 27,
      "metadata": {
        "id": "TdNH_U0XObfY",
        "colab": {
          "base_uri": "https://localhost:8080/"
        },
        "outputId": "29415cda-1b2a-4541-9787-d5014ef8e407"
      },
      "outputs": [
        {
          "output_type": "execute_result",
          "data": {
            "text/plain": [
              "A34WYPF54VM9YP    17\n",
              "AR7XJL057YUYT     17\n",
              "A10JO6RV8UFYBV    17\n",
              "A1KHY5UZ047RH0    17\n",
              "A2E9BLUVKD88OV    17\n",
              "A3119W966RPMKQ    17\n",
              "AQPJOQ6R91OI6     17\n",
              "A37TNAKEF9SMBX    17\n",
              "AEX8BTN3JNTWH     17\n",
              "ANBSEQJQOSUQG     17\n",
              "Name: userId, dtype: int64"
            ]
          },
          "metadata": {},
          "execution_count": 27
        }
      ],
      "source": [
        "data.loc[:, \"userId\"].value_counts()[150:160]"
      ]
    },
    {
      "cell_type": "markdown",
      "metadata": {
        "id": "AeW8hHJhN_Bl"
      },
      "source": [
        "Рекомендуемые товары для пользователя с указанным идентификатором."
      ]
    },
    {
      "cell_type": "code",
      "execution_count": 28,
      "metadata": {
        "id": "GvFur8aBPiSI"
      },
      "outputs": [],
      "source": [
        "userId = \"A39OON9L4QLPCF\""
      ]
    },
    {
      "cell_type": "code",
      "execution_count": 29,
      "metadata": {
        "id": "fpW7llduJPN3",
        "colab": {
          "base_uri": "https://localhost:8080/",
          "height": 143
        },
        "outputId": "a8727225-4ec6-4fce-c6c6-1c5560ca47c9"
      },
      "outputs": [
        {
          "output_type": "execute_result",
          "data": {
            "text/plain": [
              "       rating          userId      itemId   timestamp  \\\n",
              "24576     5.0  A39OON9L4QLPCF  B00DC7G2W8  1499644800   \n",
              "24581     3.0  A39OON9L4QLPCF  B014GEE6FK  1499644800   \n",
              "24583     5.0  A39OON9L4QLPCF  B01AC3ZD06  1499644800   \n",
              "\n",
              "                                                   title  pred_rating  \n",
              "24576                      Mario Kart 8 - Nintendo Wii U     4.818202  \n",
              "24581  Nintendo Selects: Super Mario 3D World - Wii U...     4.818182  \n",
              "24583             Nintendo Selects: Super Mario 3D World     4.824349  "
            ],
            "text/html": [
              "\n",
              "  <div id=\"df-0a6e74cb-3d32-47df-9a34-f0dff4030cf6\">\n",
              "    <div class=\"colab-df-container\">\n",
              "      <div>\n",
              "<style scoped>\n",
              "    .dataframe tbody tr th:only-of-type {\n",
              "        vertical-align: middle;\n",
              "    }\n",
              "\n",
              "    .dataframe tbody tr th {\n",
              "        vertical-align: top;\n",
              "    }\n",
              "\n",
              "    .dataframe thead th {\n",
              "        text-align: right;\n",
              "    }\n",
              "</style>\n",
              "<table border=\"1\" class=\"dataframe\">\n",
              "  <thead>\n",
              "    <tr style=\"text-align: right;\">\n",
              "      <th></th>\n",
              "      <th>rating</th>\n",
              "      <th>userId</th>\n",
              "      <th>itemId</th>\n",
              "      <th>timestamp</th>\n",
              "      <th>title</th>\n",
              "      <th>pred_rating</th>\n",
              "    </tr>\n",
              "  </thead>\n",
              "  <tbody>\n",
              "    <tr>\n",
              "      <th>24576</th>\n",
              "      <td>5.0</td>\n",
              "      <td>A39OON9L4QLPCF</td>\n",
              "      <td>B00DC7G2W8</td>\n",
              "      <td>1499644800</td>\n",
              "      <td>Mario Kart 8 - Nintendo Wii U</td>\n",
              "      <td>4.818202</td>\n",
              "    </tr>\n",
              "    <tr>\n",
              "      <th>24581</th>\n",
              "      <td>3.0</td>\n",
              "      <td>A39OON9L4QLPCF</td>\n",
              "      <td>B014GEE6FK</td>\n",
              "      <td>1499644800</td>\n",
              "      <td>Nintendo Selects: Super Mario 3D World - Wii U...</td>\n",
              "      <td>4.818182</td>\n",
              "    </tr>\n",
              "    <tr>\n",
              "      <th>24583</th>\n",
              "      <td>5.0</td>\n",
              "      <td>A39OON9L4QLPCF</td>\n",
              "      <td>B01AC3ZD06</td>\n",
              "      <td>1499644800</td>\n",
              "      <td>Nintendo Selects: Super Mario 3D World</td>\n",
              "      <td>4.824349</td>\n",
              "    </tr>\n",
              "  </tbody>\n",
              "</table>\n",
              "</div>\n",
              "      <button class=\"colab-df-convert\" onclick=\"convertToInteractive('df-0a6e74cb-3d32-47df-9a34-f0dff4030cf6')\"\n",
              "              title=\"Convert this dataframe to an interactive table.\"\n",
              "              style=\"display:none;\">\n",
              "        \n",
              "  <svg xmlns=\"http://www.w3.org/2000/svg\" height=\"24px\"viewBox=\"0 0 24 24\"\n",
              "       width=\"24px\">\n",
              "    <path d=\"M0 0h24v24H0V0z\" fill=\"none\"/>\n",
              "    <path d=\"M18.56 5.44l.94 2.06.94-2.06 2.06-.94-2.06-.94-.94-2.06-.94 2.06-2.06.94zm-11 1L8.5 8.5l.94-2.06 2.06-.94-2.06-.94L8.5 2.5l-.94 2.06-2.06.94zm10 10l.94 2.06.94-2.06 2.06-.94-2.06-.94-.94-2.06-.94 2.06-2.06.94z\"/><path d=\"M17.41 7.96l-1.37-1.37c-.4-.4-.92-.59-1.43-.59-.52 0-1.04.2-1.43.59L10.3 9.45l-7.72 7.72c-.78.78-.78 2.05 0 2.83L4 21.41c.39.39.9.59 1.41.59.51 0 1.02-.2 1.41-.59l7.78-7.78 2.81-2.81c.8-.78.8-2.07 0-2.86zM5.41 20L4 18.59l7.72-7.72 1.47 1.35L5.41 20z\"/>\n",
              "  </svg>\n",
              "      </button>\n",
              "      \n",
              "  <style>\n",
              "    .colab-df-container {\n",
              "      display:flex;\n",
              "      flex-wrap:wrap;\n",
              "      gap: 12px;\n",
              "    }\n",
              "\n",
              "    .colab-df-convert {\n",
              "      background-color: #E8F0FE;\n",
              "      border: none;\n",
              "      border-radius: 50%;\n",
              "      cursor: pointer;\n",
              "      display: none;\n",
              "      fill: #1967D2;\n",
              "      height: 32px;\n",
              "      padding: 0 0 0 0;\n",
              "      width: 32px;\n",
              "    }\n",
              "\n",
              "    .colab-df-convert:hover {\n",
              "      background-color: #E2EBFA;\n",
              "      box-shadow: 0px 1px 2px rgba(60, 64, 67, 0.3), 0px 1px 3px 1px rgba(60, 64, 67, 0.15);\n",
              "      fill: #174EA6;\n",
              "    }\n",
              "\n",
              "    [theme=dark] .colab-df-convert {\n",
              "      background-color: #3B4455;\n",
              "      fill: #D2E3FC;\n",
              "    }\n",
              "\n",
              "    [theme=dark] .colab-df-convert:hover {\n",
              "      background-color: #434B5C;\n",
              "      box-shadow: 0px 1px 3px 1px rgba(0, 0, 0, 0.15);\n",
              "      filter: drop-shadow(0px 1px 2px rgba(0, 0, 0, 0.3));\n",
              "      fill: #FFFFFF;\n",
              "    }\n",
              "  </style>\n",
              "\n",
              "      <script>\n",
              "        const buttonEl =\n",
              "          document.querySelector('#df-0a6e74cb-3d32-47df-9a34-f0dff4030cf6 button.colab-df-convert');\n",
              "        buttonEl.style.display =\n",
              "          google.colab.kernel.accessAllowed ? 'block' : 'none';\n",
              "\n",
              "        async function convertToInteractive(key) {\n",
              "          const element = document.querySelector('#df-0a6e74cb-3d32-47df-9a34-f0dff4030cf6');\n",
              "          const dataTable =\n",
              "            await google.colab.kernel.invokeFunction('convertToInteractive',\n",
              "                                                     [key], {});\n",
              "          if (!dataTable) return;\n",
              "\n",
              "          const docLinkHtml = 'Like what you see? Visit the ' +\n",
              "            '<a target=\"_blank\" href=https://colab.research.google.com/notebooks/data_table.ipynb>data table notebook</a>'\n",
              "            + ' to learn more about interactive tables.';\n",
              "          element.innerHTML = '';\n",
              "          dataTable['output_type'] = 'display_data';\n",
              "          await google.colab.output.renderOutput(dataTable, element);\n",
              "          const docLink = document.createElement('div');\n",
              "          docLink.innerHTML = docLinkHtml;\n",
              "          element.appendChild(docLink);\n",
              "        }\n",
              "      </script>\n",
              "    </div>\n",
              "  </div>\n",
              "  "
            ]
          },
          "metadata": {},
          "execution_count": 29
        }
      ],
      "source": [
        "data_user = pred_data[pred_data[\"userId\"] == userId]\n",
        "data_user[data_user[\"pred_rating\"] >= 4]"
      ]
    },
    {
      "cell_type": "markdown",
      "metadata": {
        "id": "hDDYHEM3OJ1Y"
      },
      "source": [
        "Купленные товары пользователем с указанным  идентификатором."
      ]
    },
    {
      "cell_type": "code",
      "execution_count": 30,
      "metadata": {
        "id": "MyNE-_ajJxhq",
        "colab": {
          "base_uri": "https://localhost:8080/",
          "height": 363
        },
        "outputId": "98f7be8f-6220-42f5-96ca-8ec7aaaa7b8b"
      },
      "outputs": [
        {
          "output_type": "execute_result",
          "data": {
            "text/plain": [
              "       rating          userId      itemId   timestamp  \\\n",
              "18564     5.0  A39OON9L4QLPCF  B0158TCVCC  1493942400   \n",
              "24485     5.0  A39OON9L4QLPCF  B00LCHZRIK  1499644800   \n",
              "24504     5.0  A39OON9L4QLPCF  B00KWG4HG0  1499644800   \n",
              "24516     5.0  A39OON9L4QLPCF  B0046EC9ZK  1499644800   \n",
              "24517     5.0  A39OON9L4QLPCF  B002BFVAV0  1499644800   \n",
              "24524     5.0  A39OON9L4QLPCF  B014GEF6QI  1499644800   \n",
              "24548     5.0  A39OON9L4QLPCF  B013EISYRU  1499644800   \n",
              "24553     5.0  A39OON9L4QLPCF  B014KXME60  1499644800   \n",
              "24560     5.0  A39OON9L4QLPCF  B00PHDC224  1499644800   \n",
              "24575     5.0  A39OON9L4QLPCF  B00DD0B0BM  1499644800   \n",
              "\n",
              "                                                   title  \n",
              "18564  Super Mario Maker Console Deluxe Set - Nintend...  \n",
              "24485    The Legend of Zelda: Breath of the Wild - Wii U  \n",
              "24504                                     Mario Party 10  \n",
              "24516                              Wii Remote Plus (Red)  \n",
              "24517   Retro Bit - Retrolink USB SEGA Saturn Classic...  \n",
              "24524           Super Mario Maker - Wii U [Digital Code]  \n",
              "24548  LEGO Dimensions, Exclusive Ninjago Jay Fun Pac...  \n",
              "24553  Resident Evil Origins Collection - Xbox One St...  \n",
              "24560         PowerA Wired Mini Controllers For Xbox One  \n",
              "24575                 Super Smash Bros. - Nintendo Wii U  "
            ],
            "text/html": [
              "\n",
              "  <div id=\"df-a8b52679-63d1-4658-9aa9-b0ee0431de33\">\n",
              "    <div class=\"colab-df-container\">\n",
              "      <div>\n",
              "<style scoped>\n",
              "    .dataframe tbody tr th:only-of-type {\n",
              "        vertical-align: middle;\n",
              "    }\n",
              "\n",
              "    .dataframe tbody tr th {\n",
              "        vertical-align: top;\n",
              "    }\n",
              "\n",
              "    .dataframe thead th {\n",
              "        text-align: right;\n",
              "    }\n",
              "</style>\n",
              "<table border=\"1\" class=\"dataframe\">\n",
              "  <thead>\n",
              "    <tr style=\"text-align: right;\">\n",
              "      <th></th>\n",
              "      <th>rating</th>\n",
              "      <th>userId</th>\n",
              "      <th>itemId</th>\n",
              "      <th>timestamp</th>\n",
              "      <th>title</th>\n",
              "    </tr>\n",
              "  </thead>\n",
              "  <tbody>\n",
              "    <tr>\n",
              "      <th>18564</th>\n",
              "      <td>5.0</td>\n",
              "      <td>A39OON9L4QLPCF</td>\n",
              "      <td>B0158TCVCC</td>\n",
              "      <td>1493942400</td>\n",
              "      <td>Super Mario Maker Console Deluxe Set - Nintend...</td>\n",
              "    </tr>\n",
              "    <tr>\n",
              "      <th>24485</th>\n",
              "      <td>5.0</td>\n",
              "      <td>A39OON9L4QLPCF</td>\n",
              "      <td>B00LCHZRIK</td>\n",
              "      <td>1499644800</td>\n",
              "      <td>The Legend of Zelda: Breath of the Wild - Wii U</td>\n",
              "    </tr>\n",
              "    <tr>\n",
              "      <th>24504</th>\n",
              "      <td>5.0</td>\n",
              "      <td>A39OON9L4QLPCF</td>\n",
              "      <td>B00KWG4HG0</td>\n",
              "      <td>1499644800</td>\n",
              "      <td>Mario Party 10</td>\n",
              "    </tr>\n",
              "    <tr>\n",
              "      <th>24516</th>\n",
              "      <td>5.0</td>\n",
              "      <td>A39OON9L4QLPCF</td>\n",
              "      <td>B0046EC9ZK</td>\n",
              "      <td>1499644800</td>\n",
              "      <td>Wii Remote Plus (Red)</td>\n",
              "    </tr>\n",
              "    <tr>\n",
              "      <th>24517</th>\n",
              "      <td>5.0</td>\n",
              "      <td>A39OON9L4QLPCF</td>\n",
              "      <td>B002BFVAV0</td>\n",
              "      <td>1499644800</td>\n",
              "      <td>Retro Bit - Retrolink USB SEGA Saturn Classic...</td>\n",
              "    </tr>\n",
              "    <tr>\n",
              "      <th>24524</th>\n",
              "      <td>5.0</td>\n",
              "      <td>A39OON9L4QLPCF</td>\n",
              "      <td>B014GEF6QI</td>\n",
              "      <td>1499644800</td>\n",
              "      <td>Super Mario Maker - Wii U [Digital Code]</td>\n",
              "    </tr>\n",
              "    <tr>\n",
              "      <th>24548</th>\n",
              "      <td>5.0</td>\n",
              "      <td>A39OON9L4QLPCF</td>\n",
              "      <td>B013EISYRU</td>\n",
              "      <td>1499644800</td>\n",
              "      <td>LEGO Dimensions, Exclusive Ninjago Jay Fun Pac...</td>\n",
              "    </tr>\n",
              "    <tr>\n",
              "      <th>24553</th>\n",
              "      <td>5.0</td>\n",
              "      <td>A39OON9L4QLPCF</td>\n",
              "      <td>B014KXME60</td>\n",
              "      <td>1499644800</td>\n",
              "      <td>Resident Evil Origins Collection - Xbox One St...</td>\n",
              "    </tr>\n",
              "    <tr>\n",
              "      <th>24560</th>\n",
              "      <td>5.0</td>\n",
              "      <td>A39OON9L4QLPCF</td>\n",
              "      <td>B00PHDC224</td>\n",
              "      <td>1499644800</td>\n",
              "      <td>PowerA Wired Mini Controllers For Xbox One</td>\n",
              "    </tr>\n",
              "    <tr>\n",
              "      <th>24575</th>\n",
              "      <td>5.0</td>\n",
              "      <td>A39OON9L4QLPCF</td>\n",
              "      <td>B00DD0B0BM</td>\n",
              "      <td>1499644800</td>\n",
              "      <td>Super Smash Bros. - Nintendo Wii U</td>\n",
              "    </tr>\n",
              "  </tbody>\n",
              "</table>\n",
              "</div>\n",
              "      <button class=\"colab-df-convert\" onclick=\"convertToInteractive('df-a8b52679-63d1-4658-9aa9-b0ee0431de33')\"\n",
              "              title=\"Convert this dataframe to an interactive table.\"\n",
              "              style=\"display:none;\">\n",
              "        \n",
              "  <svg xmlns=\"http://www.w3.org/2000/svg\" height=\"24px\"viewBox=\"0 0 24 24\"\n",
              "       width=\"24px\">\n",
              "    <path d=\"M0 0h24v24H0V0z\" fill=\"none\"/>\n",
              "    <path d=\"M18.56 5.44l.94 2.06.94-2.06 2.06-.94-2.06-.94-.94-2.06-.94 2.06-2.06.94zm-11 1L8.5 8.5l.94-2.06 2.06-.94-2.06-.94L8.5 2.5l-.94 2.06-2.06.94zm10 10l.94 2.06.94-2.06 2.06-.94-2.06-.94-.94-2.06-.94 2.06-2.06.94z\"/><path d=\"M17.41 7.96l-1.37-1.37c-.4-.4-.92-.59-1.43-.59-.52 0-1.04.2-1.43.59L10.3 9.45l-7.72 7.72c-.78.78-.78 2.05 0 2.83L4 21.41c.39.39.9.59 1.41.59.51 0 1.02-.2 1.41-.59l7.78-7.78 2.81-2.81c.8-.78.8-2.07 0-2.86zM5.41 20L4 18.59l7.72-7.72 1.47 1.35L5.41 20z\"/>\n",
              "  </svg>\n",
              "      </button>\n",
              "      \n",
              "  <style>\n",
              "    .colab-df-container {\n",
              "      display:flex;\n",
              "      flex-wrap:wrap;\n",
              "      gap: 12px;\n",
              "    }\n",
              "\n",
              "    .colab-df-convert {\n",
              "      background-color: #E8F0FE;\n",
              "      border: none;\n",
              "      border-radius: 50%;\n",
              "      cursor: pointer;\n",
              "      display: none;\n",
              "      fill: #1967D2;\n",
              "      height: 32px;\n",
              "      padding: 0 0 0 0;\n",
              "      width: 32px;\n",
              "    }\n",
              "\n",
              "    .colab-df-convert:hover {\n",
              "      background-color: #E2EBFA;\n",
              "      box-shadow: 0px 1px 2px rgba(60, 64, 67, 0.3), 0px 1px 3px 1px rgba(60, 64, 67, 0.15);\n",
              "      fill: #174EA6;\n",
              "    }\n",
              "\n",
              "    [theme=dark] .colab-df-convert {\n",
              "      background-color: #3B4455;\n",
              "      fill: #D2E3FC;\n",
              "    }\n",
              "\n",
              "    [theme=dark] .colab-df-convert:hover {\n",
              "      background-color: #434B5C;\n",
              "      box-shadow: 0px 1px 3px 1px rgba(0, 0, 0, 0.15);\n",
              "      filter: drop-shadow(0px 1px 2px rgba(0, 0, 0, 0.3));\n",
              "      fill: #FFFFFF;\n",
              "    }\n",
              "  </style>\n",
              "\n",
              "      <script>\n",
              "        const buttonEl =\n",
              "          document.querySelector('#df-a8b52679-63d1-4658-9aa9-b0ee0431de33 button.colab-df-convert');\n",
              "        buttonEl.style.display =\n",
              "          google.colab.kernel.accessAllowed ? 'block' : 'none';\n",
              "\n",
              "        async function convertToInteractive(key) {\n",
              "          const element = document.querySelector('#df-a8b52679-63d1-4658-9aa9-b0ee0431de33');\n",
              "          const dataTable =\n",
              "            await google.colab.kernel.invokeFunction('convertToInteractive',\n",
              "                                                     [key], {});\n",
              "          if (!dataTable) return;\n",
              "\n",
              "          const docLinkHtml = 'Like what you see? Visit the ' +\n",
              "            '<a target=\"_blank\" href=https://colab.research.google.com/notebooks/data_table.ipynb>data table notebook</a>'\n",
              "            + ' to learn more about interactive tables.';\n",
              "          element.innerHTML = '';\n",
              "          dataTable['output_type'] = 'display_data';\n",
              "          await google.colab.output.renderOutput(dataTable, element);\n",
              "          const docLink = document.createElement('div');\n",
              "          docLink.innerHTML = docLinkHtml;\n",
              "          element.appendChild(docLink);\n",
              "        }\n",
              "      </script>\n",
              "    </div>\n",
              "  </div>\n",
              "  "
            ]
          },
          "metadata": {},
          "execution_count": 30
        }
      ],
      "source": [
        "data_ = data[data[\"userId\"] == userId].copy()\n",
        "\n",
        "data_.drop(labels = data_user.index, axis = 0, inplace=True)\n",
        "\n",
        "data_[data_[\"rating\"] >= 4.]"
      ]
    },
    {
      "cell_type": "code",
      "execution_count": 31,
      "metadata": {
        "id": "DzG1b-BWPSTN",
        "colab": {
          "base_uri": "https://localhost:8080/",
          "height": 81
        },
        "outputId": "fba02efd-9f66-4183-e3c1-32700ac05232"
      },
      "outputs": [
        {
          "output_type": "execute_result",
          "data": {
            "text/plain": [
              "       rating          userId      itemId   timestamp  \\\n",
              "24573     3.0  A39OON9L4QLPCF  B01GW3LR8M  1499644800   \n",
              "\n",
              "                          title  \n",
              "24573  Dead Rising 4 - Xbox One  "
            ],
            "text/html": [
              "\n",
              "  <div id=\"df-09ff0941-3127-454c-afff-cce03c33e175\">\n",
              "    <div class=\"colab-df-container\">\n",
              "      <div>\n",
              "<style scoped>\n",
              "    .dataframe tbody tr th:only-of-type {\n",
              "        vertical-align: middle;\n",
              "    }\n",
              "\n",
              "    .dataframe tbody tr th {\n",
              "        vertical-align: top;\n",
              "    }\n",
              "\n",
              "    .dataframe thead th {\n",
              "        text-align: right;\n",
              "    }\n",
              "</style>\n",
              "<table border=\"1\" class=\"dataframe\">\n",
              "  <thead>\n",
              "    <tr style=\"text-align: right;\">\n",
              "      <th></th>\n",
              "      <th>rating</th>\n",
              "      <th>userId</th>\n",
              "      <th>itemId</th>\n",
              "      <th>timestamp</th>\n",
              "      <th>title</th>\n",
              "    </tr>\n",
              "  </thead>\n",
              "  <tbody>\n",
              "    <tr>\n",
              "      <th>24573</th>\n",
              "      <td>3.0</td>\n",
              "      <td>A39OON9L4QLPCF</td>\n",
              "      <td>B01GW3LR8M</td>\n",
              "      <td>1499644800</td>\n",
              "      <td>Dead Rising 4 - Xbox One</td>\n",
              "    </tr>\n",
              "  </tbody>\n",
              "</table>\n",
              "</div>\n",
              "      <button class=\"colab-df-convert\" onclick=\"convertToInteractive('df-09ff0941-3127-454c-afff-cce03c33e175')\"\n",
              "              title=\"Convert this dataframe to an interactive table.\"\n",
              "              style=\"display:none;\">\n",
              "        \n",
              "  <svg xmlns=\"http://www.w3.org/2000/svg\" height=\"24px\"viewBox=\"0 0 24 24\"\n",
              "       width=\"24px\">\n",
              "    <path d=\"M0 0h24v24H0V0z\" fill=\"none\"/>\n",
              "    <path d=\"M18.56 5.44l.94 2.06.94-2.06 2.06-.94-2.06-.94-.94-2.06-.94 2.06-2.06.94zm-11 1L8.5 8.5l.94-2.06 2.06-.94-2.06-.94L8.5 2.5l-.94 2.06-2.06.94zm10 10l.94 2.06.94-2.06 2.06-.94-2.06-.94-.94-2.06-.94 2.06-2.06.94z\"/><path d=\"M17.41 7.96l-1.37-1.37c-.4-.4-.92-.59-1.43-.59-.52 0-1.04.2-1.43.59L10.3 9.45l-7.72 7.72c-.78.78-.78 2.05 0 2.83L4 21.41c.39.39.9.59 1.41.59.51 0 1.02-.2 1.41-.59l7.78-7.78 2.81-2.81c.8-.78.8-2.07 0-2.86zM5.41 20L4 18.59l7.72-7.72 1.47 1.35L5.41 20z\"/>\n",
              "  </svg>\n",
              "      </button>\n",
              "      \n",
              "  <style>\n",
              "    .colab-df-container {\n",
              "      display:flex;\n",
              "      flex-wrap:wrap;\n",
              "      gap: 12px;\n",
              "    }\n",
              "\n",
              "    .colab-df-convert {\n",
              "      background-color: #E8F0FE;\n",
              "      border: none;\n",
              "      border-radius: 50%;\n",
              "      cursor: pointer;\n",
              "      display: none;\n",
              "      fill: #1967D2;\n",
              "      height: 32px;\n",
              "      padding: 0 0 0 0;\n",
              "      width: 32px;\n",
              "    }\n",
              "\n",
              "    .colab-df-convert:hover {\n",
              "      background-color: #E2EBFA;\n",
              "      box-shadow: 0px 1px 2px rgba(60, 64, 67, 0.3), 0px 1px 3px 1px rgba(60, 64, 67, 0.15);\n",
              "      fill: #174EA6;\n",
              "    }\n",
              "\n",
              "    [theme=dark] .colab-df-convert {\n",
              "      background-color: #3B4455;\n",
              "      fill: #D2E3FC;\n",
              "    }\n",
              "\n",
              "    [theme=dark] .colab-df-convert:hover {\n",
              "      background-color: #434B5C;\n",
              "      box-shadow: 0px 1px 3px 1px rgba(0, 0, 0, 0.15);\n",
              "      filter: drop-shadow(0px 1px 2px rgba(0, 0, 0, 0.3));\n",
              "      fill: #FFFFFF;\n",
              "    }\n",
              "  </style>\n",
              "\n",
              "      <script>\n",
              "        const buttonEl =\n",
              "          document.querySelector('#df-09ff0941-3127-454c-afff-cce03c33e175 button.colab-df-convert');\n",
              "        buttonEl.style.display =\n",
              "          google.colab.kernel.accessAllowed ? 'block' : 'none';\n",
              "\n",
              "        async function convertToInteractive(key) {\n",
              "          const element = document.querySelector('#df-09ff0941-3127-454c-afff-cce03c33e175');\n",
              "          const dataTable =\n",
              "            await google.colab.kernel.invokeFunction('convertToInteractive',\n",
              "                                                     [key], {});\n",
              "          if (!dataTable) return;\n",
              "\n",
              "          const docLinkHtml = 'Like what you see? Visit the ' +\n",
              "            '<a target=\"_blank\" href=https://colab.research.google.com/notebooks/data_table.ipynb>data table notebook</a>'\n",
              "            + ' to learn more about interactive tables.';\n",
              "          element.innerHTML = '';\n",
              "          dataTable['output_type'] = 'display_data';\n",
              "          await google.colab.output.renderOutput(dataTable, element);\n",
              "          const docLink = document.createElement('div');\n",
              "          docLink.innerHTML = docLinkHtml;\n",
              "          element.appendChild(docLink);\n",
              "        }\n",
              "      </script>\n",
              "    </div>\n",
              "  </div>\n",
              "  "
            ]
          },
          "metadata": {},
          "execution_count": 31
        }
      ],
      "source": [
        "data_[data_[\"rating\"] < 4.]"
      ]
    },
    {
      "cell_type": "markdown",
      "source": [
        "Видно, что рекомендуется игры, в которые он еще не играл и они по смыслу совпадают с уже проигранными, т.е. он играл в Марио и ему рекомендуются другие разновидности игр с Марио."
      ],
      "metadata": {
        "id": "m_o92a-KYgex"
      }
    },
    {
      "cell_type": "markdown",
      "metadata": {
        "id": "b9MRJNPeUJhW"
      },
      "source": [
        "**Контентная фильтрация.**"
      ]
    },
    {
      "cell_type": "code",
      "execution_count": 32,
      "metadata": {
        "id": "muM1wh1mP3xP"
      },
      "outputs": [],
      "source": [
        "cont_data = data.copy()\n",
        "cont_data.drop_duplicates(subset=['title'], inplace=True)"
      ]
    },
    {
      "cell_type": "code",
      "execution_count": 33,
      "metadata": {
        "id": "X1XpRO_gZSqp"
      },
      "outputs": [],
      "source": [
        "tfidf = TfidfVectorizer(analyzer='word', stop_words='english')\n",
        "\n",
        "titles = cont_data['title']\n",
        "\n",
        "titles = titles.apply(lambda text: ' '.join([st for st in str(text).split(' ') if not st.isdigit()]))  # Удаляем все цифры\n",
        "\n",
        "tfidf_matrix = tfidf.fit_transform(titles)"
      ]
    },
    {
      "cell_type": "code",
      "execution_count": 34,
      "metadata": {
        "id": "5rJy_ae5-KS4"
      },
      "outputs": [],
      "source": [
        "cosine_similarities = cosine_similarity(tfidf_matrix)"
      ]
    },
    {
      "cell_type": "code",
      "execution_count": 35,
      "metadata": {
        "id": "W12WrOlqZn-q"
      },
      "outputs": [],
      "source": [
        "similarities = {}\n",
        "for i in range(len(cosine_similarities)):\n",
        "    # сортировка по схожести и запись индексов\n",
        "    similar_indices = cosine_similarities[i].argsort()[:-50:-1] \n",
        "    # 50 самых похожих товаров\n",
        "    similarities[cont_data['itemId'].iloc[i]] = [(cosine_similarities[i][x], cont_data.iloc[x]['title'], cont_data.iloc[x]['itemId']) for x in similar_indices][1:]"
      ]
    },
    {
      "cell_type": "code",
      "execution_count": 36,
      "metadata": {
        "id": "6tMH9eykaEZZ"
      },
      "outputs": [],
      "source": [
        "class ContentBasedRecommender:\n",
        "    def __init__(self, matrix):\n",
        "        self.matrix_similar = matrix\n",
        "\n",
        "    def _print_message(self, item, recom_item):\n",
        "        rec_items = len(recom_item)\n",
        "        \n",
        "        print(f'The {rec_items} recommended items are:')\n",
        "        for i in range(rec_items):\n",
        "            print(f\"Number {i+1}:\")\n",
        "            print(f\"{recom_item[i][1]} with {round(recom_item[i][0], 3)} similarity score\") \n",
        "            print(\"--------------------\")\n",
        "        \n",
        "    def recommend(self, recommendation, verbose = True):\n",
        "        # Выбрать товар для поиска рекомендаций\n",
        "        item = recommendation['item']\n",
        "        # Выбрать число товаров для рекомендаций\n",
        "        number_items = recommendation['item_number']\n",
        "        # Выбрать товары, наиболее похожее из матрицы\n",
        "        recom_item = self.matrix_similar[item][:number_items]\n",
        "        # распечатать\n",
        "        if verbose:\n",
        "            self._print_message(item=item, recom_item=recom_item)\n",
        "        return recom_item"
      ]
    },
    {
      "cell_type": "code",
      "execution_count": 37,
      "metadata": {
        "id": "VJCmYk9PaMaK"
      },
      "outputs": [],
      "source": [
        "recommedations = ContentBasedRecommender(similarities)"
      ]
    },
    {
      "cell_type": "code",
      "execution_count": 38,
      "metadata": {
        "id": "Vo9upb4tZYFF"
      },
      "outputs": [],
      "source": [
        "itemId = \"B01GW3POY0\""
      ]
    },
    {
      "cell_type": "code",
      "execution_count": 39,
      "metadata": {
        "id": "Hk75veh4e6Ir",
        "colab": {
          "base_uri": "https://localhost:8080/",
          "height": 206
        },
        "outputId": "4dcd27f2-b442-461f-ff47-8907aeee2532"
      },
      "outputs": [
        {
          "output_type": "execute_result",
          "data": {
            "text/plain": [
              "      rating          userId      itemId   timestamp  \\\n",
              "3774     5.0  A1AWYWB3FIPZEB  B01GW3POY0  1485216000   \n",
              "3780     5.0   AM5Z8E4KPGL0K  B01GW3POY0  1485216000   \n",
              "3784     4.0   A4VF4V6A4W0H7  B01GW3POY0  1485216000   \n",
              "3802     1.0  A1U86MCXJLE57H  B01GW3POY0  1485216000   \n",
              "3809     5.0   AXIQ99RS1E2JW  B01GW3POY0  1485216000   \n",
              "\n",
              "                                              title  \n",
              "3774  Resident Evil 7: Biohazard - PS4 Digital Code  \n",
              "3780  Resident Evil 7: Biohazard - PS4 Digital Code  \n",
              "3784  Resident Evil 7: Biohazard - PS4 Digital Code  \n",
              "3802  Resident Evil 7: Biohazard - PS4 Digital Code  \n",
              "3809  Resident Evil 7: Biohazard - PS4 Digital Code  "
            ],
            "text/html": [
              "\n",
              "  <div id=\"df-af47265f-6d5b-49bb-9fd4-e9ecac8f5f19\">\n",
              "    <div class=\"colab-df-container\">\n",
              "      <div>\n",
              "<style scoped>\n",
              "    .dataframe tbody tr th:only-of-type {\n",
              "        vertical-align: middle;\n",
              "    }\n",
              "\n",
              "    .dataframe tbody tr th {\n",
              "        vertical-align: top;\n",
              "    }\n",
              "\n",
              "    .dataframe thead th {\n",
              "        text-align: right;\n",
              "    }\n",
              "</style>\n",
              "<table border=\"1\" class=\"dataframe\">\n",
              "  <thead>\n",
              "    <tr style=\"text-align: right;\">\n",
              "      <th></th>\n",
              "      <th>rating</th>\n",
              "      <th>userId</th>\n",
              "      <th>itemId</th>\n",
              "      <th>timestamp</th>\n",
              "      <th>title</th>\n",
              "    </tr>\n",
              "  </thead>\n",
              "  <tbody>\n",
              "    <tr>\n",
              "      <th>3774</th>\n",
              "      <td>5.0</td>\n",
              "      <td>A1AWYWB3FIPZEB</td>\n",
              "      <td>B01GW3POY0</td>\n",
              "      <td>1485216000</td>\n",
              "      <td>Resident Evil 7: Biohazard - PS4 Digital Code</td>\n",
              "    </tr>\n",
              "    <tr>\n",
              "      <th>3780</th>\n",
              "      <td>5.0</td>\n",
              "      <td>AM5Z8E4KPGL0K</td>\n",
              "      <td>B01GW3POY0</td>\n",
              "      <td>1485216000</td>\n",
              "      <td>Resident Evil 7: Biohazard - PS4 Digital Code</td>\n",
              "    </tr>\n",
              "    <tr>\n",
              "      <th>3784</th>\n",
              "      <td>4.0</td>\n",
              "      <td>A4VF4V6A4W0H7</td>\n",
              "      <td>B01GW3POY0</td>\n",
              "      <td>1485216000</td>\n",
              "      <td>Resident Evil 7: Biohazard - PS4 Digital Code</td>\n",
              "    </tr>\n",
              "    <tr>\n",
              "      <th>3802</th>\n",
              "      <td>1.0</td>\n",
              "      <td>A1U86MCXJLE57H</td>\n",
              "      <td>B01GW3POY0</td>\n",
              "      <td>1485216000</td>\n",
              "      <td>Resident Evil 7: Biohazard - PS4 Digital Code</td>\n",
              "    </tr>\n",
              "    <tr>\n",
              "      <th>3809</th>\n",
              "      <td>5.0</td>\n",
              "      <td>AXIQ99RS1E2JW</td>\n",
              "      <td>B01GW3POY0</td>\n",
              "      <td>1485216000</td>\n",
              "      <td>Resident Evil 7: Biohazard - PS4 Digital Code</td>\n",
              "    </tr>\n",
              "  </tbody>\n",
              "</table>\n",
              "</div>\n",
              "      <button class=\"colab-df-convert\" onclick=\"convertToInteractive('df-af47265f-6d5b-49bb-9fd4-e9ecac8f5f19')\"\n",
              "              title=\"Convert this dataframe to an interactive table.\"\n",
              "              style=\"display:none;\">\n",
              "        \n",
              "  <svg xmlns=\"http://www.w3.org/2000/svg\" height=\"24px\"viewBox=\"0 0 24 24\"\n",
              "       width=\"24px\">\n",
              "    <path d=\"M0 0h24v24H0V0z\" fill=\"none\"/>\n",
              "    <path d=\"M18.56 5.44l.94 2.06.94-2.06 2.06-.94-2.06-.94-.94-2.06-.94 2.06-2.06.94zm-11 1L8.5 8.5l.94-2.06 2.06-.94-2.06-.94L8.5 2.5l-.94 2.06-2.06.94zm10 10l.94 2.06.94-2.06 2.06-.94-2.06-.94-.94-2.06-.94 2.06-2.06.94z\"/><path d=\"M17.41 7.96l-1.37-1.37c-.4-.4-.92-.59-1.43-.59-.52 0-1.04.2-1.43.59L10.3 9.45l-7.72 7.72c-.78.78-.78 2.05 0 2.83L4 21.41c.39.39.9.59 1.41.59.51 0 1.02-.2 1.41-.59l7.78-7.78 2.81-2.81c.8-.78.8-2.07 0-2.86zM5.41 20L4 18.59l7.72-7.72 1.47 1.35L5.41 20z\"/>\n",
              "  </svg>\n",
              "      </button>\n",
              "      \n",
              "  <style>\n",
              "    .colab-df-container {\n",
              "      display:flex;\n",
              "      flex-wrap:wrap;\n",
              "      gap: 12px;\n",
              "    }\n",
              "\n",
              "    .colab-df-convert {\n",
              "      background-color: #E8F0FE;\n",
              "      border: none;\n",
              "      border-radius: 50%;\n",
              "      cursor: pointer;\n",
              "      display: none;\n",
              "      fill: #1967D2;\n",
              "      height: 32px;\n",
              "      padding: 0 0 0 0;\n",
              "      width: 32px;\n",
              "    }\n",
              "\n",
              "    .colab-df-convert:hover {\n",
              "      background-color: #E2EBFA;\n",
              "      box-shadow: 0px 1px 2px rgba(60, 64, 67, 0.3), 0px 1px 3px 1px rgba(60, 64, 67, 0.15);\n",
              "      fill: #174EA6;\n",
              "    }\n",
              "\n",
              "    [theme=dark] .colab-df-convert {\n",
              "      background-color: #3B4455;\n",
              "      fill: #D2E3FC;\n",
              "    }\n",
              "\n",
              "    [theme=dark] .colab-df-convert:hover {\n",
              "      background-color: #434B5C;\n",
              "      box-shadow: 0px 1px 3px 1px rgba(0, 0, 0, 0.15);\n",
              "      filter: drop-shadow(0px 1px 2px rgba(0, 0, 0, 0.3));\n",
              "      fill: #FFFFFF;\n",
              "    }\n",
              "  </style>\n",
              "\n",
              "      <script>\n",
              "        const buttonEl =\n",
              "          document.querySelector('#df-af47265f-6d5b-49bb-9fd4-e9ecac8f5f19 button.colab-df-convert');\n",
              "        buttonEl.style.display =\n",
              "          google.colab.kernel.accessAllowed ? 'block' : 'none';\n",
              "\n",
              "        async function convertToInteractive(key) {\n",
              "          const element = document.querySelector('#df-af47265f-6d5b-49bb-9fd4-e9ecac8f5f19');\n",
              "          const dataTable =\n",
              "            await google.colab.kernel.invokeFunction('convertToInteractive',\n",
              "                                                     [key], {});\n",
              "          if (!dataTable) return;\n",
              "\n",
              "          const docLinkHtml = 'Like what you see? Visit the ' +\n",
              "            '<a target=\"_blank\" href=https://colab.research.google.com/notebooks/data_table.ipynb>data table notebook</a>'\n",
              "            + ' to learn more about interactive tables.';\n",
              "          element.innerHTML = '';\n",
              "          dataTable['output_type'] = 'display_data';\n",
              "          await google.colab.output.renderOutput(dataTable, element);\n",
              "          const docLink = document.createElement('div');\n",
              "          docLink.innerHTML = docLinkHtml;\n",
              "          element.appendChild(docLink);\n",
              "        }\n",
              "      </script>\n",
              "    </div>\n",
              "  </div>\n",
              "  "
            ]
          },
          "metadata": {},
          "execution_count": 39
        }
      ],
      "source": [
        "data[data[\"itemId\"] == itemId].head()"
      ]
    },
    {
      "cell_type": "code",
      "execution_count": 40,
      "metadata": {
        "id": "PO04ybazaVUR",
        "colab": {
          "base_uri": "https://localhost:8080/"
        },
        "outputId": "3bdd54cb-92f6-4ac6-9887-a4703710c793"
      },
      "outputs": [
        {
          "output_type": "stream",
          "name": "stdout",
          "text": [
            "The 10 recommended items are:\n",
            "Number 1:\n",
            "Resident Evil 7 Biohazard - Xbox One with 0.819 similarity score\n",
            "--------------------\n",
            "Number 2:\n",
            "Resident Evil 7 Biohazard [Online Game Code] with 0.802 similarity score\n",
            "--------------------\n",
            "Number 3:\n",
            "Resident Evil (PS4 HD Remaster) - PS4 [Digital Code] with 0.617 similarity score\n",
            "--------------------\n",
            "Number 4:\n",
            "Resident Evil 5 Gold Edition (Digital) - PS3 [Digital Code] with 0.604 similarity score\n",
            "--------------------\n",
            "Number 5:\n",
            "Resident Evil 4 with 0.596 similarity score\n",
            "--------------------\n",
            "Number 6:\n",
            "Resident Evil 2 with 0.596 similarity score\n",
            "--------------------\n",
            "Number 7:\n",
            "Resident Evil 6 with 0.596 similarity score\n",
            "--------------------\n",
            "Number 8:\n",
            "Resident Evil Essentials (Resident Evil Code: Veronica X / Resident Evil Outbreak / Resident Evil 4) with 0.578 similarity score\n",
            "--------------------\n",
            "Number 9:\n",
            "Resident Evil 6 - PlayStation 4 with 0.569 similarity score\n",
            "--------------------\n",
            "Number 10:\n",
            "Resident Evil 6 - Playstation 3 with 0.569 similarity score\n",
            "--------------------\n"
          ]
        }
      ],
      "source": [
        "recommendation = {\n",
        "    \"item\": itemId,\n",
        "    \"item_number\": 10\n",
        "}\n",
        "\n",
        "recom_item = recommedations.recommend(recommendation)"
      ]
    },
    {
      "cell_type": "markdown",
      "source": [
        "Видно, что рекомендуемые игры являются разновидносями указанной игры."
      ],
      "metadata": {
        "id": "AXlHT25SX6E-"
      }
    },
    {
      "cell_type": "markdown",
      "metadata": {
        "id": "kqmcTIou43n4"
      },
      "source": [
        "**Collaborative filtering.**"
      ]
    },
    {
      "cell_type": "markdown",
      "source": [
        "**Алгоритм SVD.**"
      ],
      "metadata": {
        "id": "BHi0ewwJXH6i"
      }
    },
    {
      "cell_type": "code",
      "execution_count": 41,
      "metadata": {
        "id": "hQu4AoCL44GV"
      },
      "outputs": [],
      "source": [
        "#!pip install surprise"
      ]
    },
    {
      "cell_type": "code",
      "execution_count": 42,
      "metadata": {
        "id": "nL0iFIgW5GFq"
      },
      "outputs": [],
      "source": [
        "from surprise import Dataset, SVD\n",
        "from surprise import Reader\n",
        "from surprise import accuracy\n",
        "from surprise.model_selection import train_test_split"
      ]
    },
    {
      "cell_type": "code",
      "source": [
        "train_data = X_train.copy()\n",
        "train_data[\"y\"] = y_train\n",
        "\n",
        "# A reader is still needed but only the rating_scale param is requiered.\n",
        "reader = Reader(rating_scale=(1, 5))\n",
        "\n",
        "# The columns must correspond to user id, item id and ratings (in that order).\n",
        "trainset = Dataset.load_from_df(train_data, reader).build_full_trainset()"
      ],
      "metadata": {
        "id": "P-1BBS-AqBPS"
      },
      "execution_count": 43,
      "outputs": []
    },
    {
      "cell_type": "code",
      "source": [
        "test_data = X_test.copy()\n",
        "test_data[\"y\"] = y_test\n",
        "\n",
        "testset = list(test_data.itertuples(index=False))"
      ],
      "metadata": {
        "id": "RaM-i-sGqkPa"
      },
      "execution_count": 44,
      "outputs": []
    },
    {
      "cell_type": "code",
      "source": [
        "# We'll use the famous SVD algorithm.\n",
        "algo = SVD()\n",
        "\n",
        "# Train the algorithm on the trainset, and predict ratings for the testset\n",
        "algo.fit(trainset)\n",
        "predictions = algo.test(testset)\n",
        "\n",
        "# Then compute RMSE\n",
        "accuracy.rmse(predictions)"
      ],
      "metadata": {
        "colab": {
          "base_uri": "https://localhost:8080/"
        },
        "id": "1k1NS-Fkb2rr",
        "outputId": "fa6a79ce-4d4a-40a1-e78f-80975fe615d5"
      },
      "execution_count": 45,
      "outputs": [
        {
          "output_type": "stream",
          "name": "stdout",
          "text": [
            "RMSE: 2.4415\n"
          ]
        },
        {
          "output_type": "execute_result",
          "data": {
            "text/plain": [
              "2.4414873771098224"
            ]
          },
          "metadata": {},
          "execution_count": 45
        }
      ]
    },
    {
      "cell_type": "markdown",
      "source": [
        "Полученная модель плохого качества."
      ],
      "metadata": {
        "id": "33MITntECCn6"
      }
    },
    {
      "cell_type": "code",
      "source": [
        "# A reader is still needed but only the rating_scale param is requiered.\n",
        "reader = Reader(rating_scale=(1, 5))\n",
        "\n",
        "# The columns must correspond to user id, item id and ratings (in that order).\n",
        "dataset = Dataset.load_from_df(data[[\"userId\", \"itemId\", \"rating\"]], reader)"
      ],
      "metadata": {
        "id": "8IbNvj2e3iRu"
      },
      "execution_count": 54,
      "outputs": []
    },
    {
      "cell_type": "code",
      "source": [
        "trainset, testset = train_test_split(dataset, test_size=0.2)"
      ],
      "metadata": {
        "id": "9Zsioso75_09"
      },
      "execution_count": 55,
      "outputs": []
    },
    {
      "cell_type": "code",
      "source": [
        "# Train the algorithm on the trainset, and predict ratings for the testset\n",
        "algo.fit(trainset)\n",
        "predictions = algo.test(testset)\n",
        "\n",
        "# Then compute RMSE\n",
        "accuracy.rmse(predictions)"
      ],
      "metadata": {
        "colab": {
          "base_uri": "https://localhost:8080/"
        },
        "id": "c7IHzrWu95pA",
        "outputId": "c774097a-3adf-467c-9812-bbe2f36b8bc6"
      },
      "execution_count": 56,
      "outputs": [
        {
          "output_type": "stream",
          "name": "stdout",
          "text": [
            "RMSE: 1.0808\n"
          ]
        },
        {
          "output_type": "execute_result",
          "data": {
            "text/plain": [
              "1.0807911585799033"
            ]
          },
          "metadata": {},
          "execution_count": 56
        }
      ]
    },
    {
      "cell_type": "markdown",
      "source": [
        "Если разбить на тренировочные и тестовые данные средствами самой библиотеки, то получается модель хорошего качества."
      ],
      "metadata": {
        "id": "qjeWxh939_vZ"
      }
    }
  ],
  "metadata": {
    "colab": {
      "collapsed_sections": [],
      "name": "recom_system.ipynb",
      "provenance": []
    },
    "kernelspec": {
      "display_name": "Python 3",
      "name": "python3"
    },
    "language_info": {
      "name": "python"
    },
    "widgets": {
      "application/vnd.jupyter.widget-state+json": {
        "b64cf9970f4e426b82adcc42fd4a8ceb": {
          "model_module": "@jupyter-widgets/controls",
          "model_name": "HBoxModel",
          "model_module_version": "1.5.0",
          "state": {
            "_dom_classes": [],
            "_model_module": "@jupyter-widgets/controls",
            "_model_module_version": "1.5.0",
            "_model_name": "HBoxModel",
            "_view_count": null,
            "_view_module": "@jupyter-widgets/controls",
            "_view_module_version": "1.5.0",
            "_view_name": "HBoxView",
            "box_style": "",
            "children": [
              "IPY_MODEL_2d43c423189041b4a0bb026dedb087ce",
              "IPY_MODEL_f901a9a542fd4fd9a0f6a820c43cd922",
              "IPY_MODEL_8d3f7bee1a9a41538dd81174be3b4013"
            ],
            "layout": "IPY_MODEL_f130d1bafb4f42e7b1985fa88d60a29e"
          }
        },
        "2d43c423189041b4a0bb026dedb087ce": {
          "model_module": "@jupyter-widgets/controls",
          "model_name": "HTMLModel",
          "model_module_version": "1.5.0",
          "state": {
            "_dom_classes": [],
            "_model_module": "@jupyter-widgets/controls",
            "_model_module_version": "1.5.0",
            "_model_name": "HTMLModel",
            "_view_count": null,
            "_view_module": "@jupyter-widgets/controls",
            "_view_module_version": "1.5.0",
            "_view_name": "HTMLView",
            "description": "",
            "description_tooltip": null,
            "layout": "IPY_MODEL_aac85e8190744a61901d053db7c6972e",
            "placeholder": "​",
            "style": "IPY_MODEL_7dae674da4c3449a982bcf2c607618e3",
            "value": "100%"
          }
        },
        "f901a9a542fd4fd9a0f6a820c43cd922": {
          "model_module": "@jupyter-widgets/controls",
          "model_name": "FloatProgressModel",
          "model_module_version": "1.5.0",
          "state": {
            "_dom_classes": [],
            "_model_module": "@jupyter-widgets/controls",
            "_model_module_version": "1.5.0",
            "_model_name": "FloatProgressModel",
            "_view_count": null,
            "_view_module": "@jupyter-widgets/controls",
            "_view_module_version": "1.5.0",
            "_view_name": "ProgressView",
            "bar_style": "success",
            "description": "",
            "description_tooltip": null,
            "layout": "IPY_MODEL_57f8ef2a39314ee5bcfda09e75549dff",
            "max": 15065,
            "min": 0,
            "orientation": "horizontal",
            "style": "IPY_MODEL_86cc1d67935c457ba69ca119ff7a63fc",
            "value": 15065
          }
        },
        "8d3f7bee1a9a41538dd81174be3b4013": {
          "model_module": "@jupyter-widgets/controls",
          "model_name": "HTMLModel",
          "model_module_version": "1.5.0",
          "state": {
            "_dom_classes": [],
            "_model_module": "@jupyter-widgets/controls",
            "_model_module_version": "1.5.0",
            "_model_name": "HTMLModel",
            "_view_count": null,
            "_view_module": "@jupyter-widgets/controls",
            "_view_module_version": "1.5.0",
            "_view_name": "HTMLView",
            "description": "",
            "description_tooltip": null,
            "layout": "IPY_MODEL_f349b109a9884712bd4b7ce209ca0d54",
            "placeholder": "​",
            "style": "IPY_MODEL_9b466b7d9d9c488eb64b10440788d2e4",
            "value": " 15065/15065 [02:11&lt;00:00, 113.57it/s]"
          }
        },
        "f130d1bafb4f42e7b1985fa88d60a29e": {
          "model_module": "@jupyter-widgets/base",
          "model_name": "LayoutModel",
          "model_module_version": "1.2.0",
          "state": {
            "_model_module": "@jupyter-widgets/base",
            "_model_module_version": "1.2.0",
            "_model_name": "LayoutModel",
            "_view_count": null,
            "_view_module": "@jupyter-widgets/base",
            "_view_module_version": "1.2.0",
            "_view_name": "LayoutView",
            "align_content": null,
            "align_items": null,
            "align_self": null,
            "border": null,
            "bottom": null,
            "display": null,
            "flex": null,
            "flex_flow": null,
            "grid_area": null,
            "grid_auto_columns": null,
            "grid_auto_flow": null,
            "grid_auto_rows": null,
            "grid_column": null,
            "grid_gap": null,
            "grid_row": null,
            "grid_template_areas": null,
            "grid_template_columns": null,
            "grid_template_rows": null,
            "height": null,
            "justify_content": null,
            "justify_items": null,
            "left": null,
            "margin": null,
            "max_height": null,
            "max_width": null,
            "min_height": null,
            "min_width": null,
            "object_fit": null,
            "object_position": null,
            "order": null,
            "overflow": null,
            "overflow_x": null,
            "overflow_y": null,
            "padding": null,
            "right": null,
            "top": null,
            "visibility": null,
            "width": null
          }
        },
        "aac85e8190744a61901d053db7c6972e": {
          "model_module": "@jupyter-widgets/base",
          "model_name": "LayoutModel",
          "model_module_version": "1.2.0",
          "state": {
            "_model_module": "@jupyter-widgets/base",
            "_model_module_version": "1.2.0",
            "_model_name": "LayoutModel",
            "_view_count": null,
            "_view_module": "@jupyter-widgets/base",
            "_view_module_version": "1.2.0",
            "_view_name": "LayoutView",
            "align_content": null,
            "align_items": null,
            "align_self": null,
            "border": null,
            "bottom": null,
            "display": null,
            "flex": null,
            "flex_flow": null,
            "grid_area": null,
            "grid_auto_columns": null,
            "grid_auto_flow": null,
            "grid_auto_rows": null,
            "grid_column": null,
            "grid_gap": null,
            "grid_row": null,
            "grid_template_areas": null,
            "grid_template_columns": null,
            "grid_template_rows": null,
            "height": null,
            "justify_content": null,
            "justify_items": null,
            "left": null,
            "margin": null,
            "max_height": null,
            "max_width": null,
            "min_height": null,
            "min_width": null,
            "object_fit": null,
            "object_position": null,
            "order": null,
            "overflow": null,
            "overflow_x": null,
            "overflow_y": null,
            "padding": null,
            "right": null,
            "top": null,
            "visibility": null,
            "width": null
          }
        },
        "7dae674da4c3449a982bcf2c607618e3": {
          "model_module": "@jupyter-widgets/controls",
          "model_name": "DescriptionStyleModel",
          "model_module_version": "1.5.0",
          "state": {
            "_model_module": "@jupyter-widgets/controls",
            "_model_module_version": "1.5.0",
            "_model_name": "DescriptionStyleModel",
            "_view_count": null,
            "_view_module": "@jupyter-widgets/base",
            "_view_module_version": "1.2.0",
            "_view_name": "StyleView",
            "description_width": ""
          }
        },
        "57f8ef2a39314ee5bcfda09e75549dff": {
          "model_module": "@jupyter-widgets/base",
          "model_name": "LayoutModel",
          "model_module_version": "1.2.0",
          "state": {
            "_model_module": "@jupyter-widgets/base",
            "_model_module_version": "1.2.0",
            "_model_name": "LayoutModel",
            "_view_count": null,
            "_view_module": "@jupyter-widgets/base",
            "_view_module_version": "1.2.0",
            "_view_name": "LayoutView",
            "align_content": null,
            "align_items": null,
            "align_self": null,
            "border": null,
            "bottom": null,
            "display": null,
            "flex": null,
            "flex_flow": null,
            "grid_area": null,
            "grid_auto_columns": null,
            "grid_auto_flow": null,
            "grid_auto_rows": null,
            "grid_column": null,
            "grid_gap": null,
            "grid_row": null,
            "grid_template_areas": null,
            "grid_template_columns": null,
            "grid_template_rows": null,
            "height": null,
            "justify_content": null,
            "justify_items": null,
            "left": null,
            "margin": null,
            "max_height": null,
            "max_width": null,
            "min_height": null,
            "min_width": null,
            "object_fit": null,
            "object_position": null,
            "order": null,
            "overflow": null,
            "overflow_x": null,
            "overflow_y": null,
            "padding": null,
            "right": null,
            "top": null,
            "visibility": null,
            "width": null
          }
        },
        "86cc1d67935c457ba69ca119ff7a63fc": {
          "model_module": "@jupyter-widgets/controls",
          "model_name": "ProgressStyleModel",
          "model_module_version": "1.5.0",
          "state": {
            "_model_module": "@jupyter-widgets/controls",
            "_model_module_version": "1.5.0",
            "_model_name": "ProgressStyleModel",
            "_view_count": null,
            "_view_module": "@jupyter-widgets/base",
            "_view_module_version": "1.2.0",
            "_view_name": "StyleView",
            "bar_color": null,
            "description_width": ""
          }
        },
        "f349b109a9884712bd4b7ce209ca0d54": {
          "model_module": "@jupyter-widgets/base",
          "model_name": "LayoutModel",
          "model_module_version": "1.2.0",
          "state": {
            "_model_module": "@jupyter-widgets/base",
            "_model_module_version": "1.2.0",
            "_model_name": "LayoutModel",
            "_view_count": null,
            "_view_module": "@jupyter-widgets/base",
            "_view_module_version": "1.2.0",
            "_view_name": "LayoutView",
            "align_content": null,
            "align_items": null,
            "align_self": null,
            "border": null,
            "bottom": null,
            "display": null,
            "flex": null,
            "flex_flow": null,
            "grid_area": null,
            "grid_auto_columns": null,
            "grid_auto_flow": null,
            "grid_auto_rows": null,
            "grid_column": null,
            "grid_gap": null,
            "grid_row": null,
            "grid_template_areas": null,
            "grid_template_columns": null,
            "grid_template_rows": null,
            "height": null,
            "justify_content": null,
            "justify_items": null,
            "left": null,
            "margin": null,
            "max_height": null,
            "max_width": null,
            "min_height": null,
            "min_width": null,
            "object_fit": null,
            "object_position": null,
            "order": null,
            "overflow": null,
            "overflow_x": null,
            "overflow_y": null,
            "padding": null,
            "right": null,
            "top": null,
            "visibility": null,
            "width": null
          }
        },
        "9b466b7d9d9c488eb64b10440788d2e4": {
          "model_module": "@jupyter-widgets/controls",
          "model_name": "DescriptionStyleModel",
          "model_module_version": "1.5.0",
          "state": {
            "_model_module": "@jupyter-widgets/controls",
            "_model_module_version": "1.5.0",
            "_model_name": "DescriptionStyleModel",
            "_view_count": null,
            "_view_module": "@jupyter-widgets/base",
            "_view_module_version": "1.2.0",
            "_view_name": "StyleView",
            "description_width": ""
          }
        }
      }
    }
  },
  "nbformat": 4,
  "nbformat_minor": 0
}